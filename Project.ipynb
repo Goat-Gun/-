{
 "cells": [
  {
   "cell_type": "code",
   "execution_count": 13,
   "id": "258f77af",
   "metadata": {},
   "outputs": [],
   "source": [
    "import pandas as pd\n",
    "import re\n",
    "import konlpy\n",
    "import matplotlib.pyplot as plt\n",
    "import seaborn as sns\n",
    "from matplotlib import font_manager, rc\n",
    "import numpy as np\n",
    "from tqdm import tqdm\n",
    "import urllib.request\n",
    "import warnings\n",
    "warnings.filterwarnings(\"ignore\")\n",
    "\n",
    "\n",
    "from sklearn.preprocessing import MinMaxScaler\n",
    "scaler = MinMaxScaler(feature_range=(-2, 2))"
   ]
  },
  {
   "cell_type": "markdown",
   "id": "cbb76371",
   "metadata": {},
   "source": [
    "### 1. 데이터 불러오기"
   ]
  },
  {
   "cell_type": "code",
   "execution_count": 22,
   "id": "6dffc18e",
   "metadata": {},
   "outputs": [
    {
     "data": {
      "text/html": [
       "<div>\n",
       "<style scoped>\n",
       "    .dataframe tbody tr th:only-of-type {\n",
       "        vertical-align: middle;\n",
       "    }\n",
       "\n",
       "    .dataframe tbody tr th {\n",
       "        vertical-align: top;\n",
       "    }\n",
       "\n",
       "    .dataframe thead th {\n",
       "        text-align: right;\n",
       "    }\n",
       "</style>\n",
       "<table border=\"1\" class=\"dataframe\">\n",
       "  <thead>\n",
       "    <tr style=\"text-align: right;\">\n",
       "      <th></th>\n",
       "      <th>sentence</th>\n",
       "      <th>like_count</th>\n",
       "      <th>comment_count</th>\n",
       "      <th>share_count</th>\n",
       "      <th>date</th>\n",
       "    </tr>\n",
       "  </thead>\n",
       "  <tbody>\n",
       "    <tr>\n",
       "      <th>0</th>\n",
       "      <td>&lt;홍영표 김종민 신동근 의원님 지지선언, 힘이 솟습니다&gt;\\n더불어민주당 홍영표, 김...</td>\n",
       "      <td>636</td>\n",
       "      <td>224</td>\n",
       "      <td>224</td>\n",
       "      <td>2021-09-16</td>\n",
       "    </tr>\n",
       "    <tr>\n",
       "      <th>1</th>\n",
       "      <td>&lt;윤석열씨의 대책없는 노동관&gt;\\n“손발로 하는 노동은 인도도 안 하고 아프리카나 한...</td>\n",
       "      <td>633</td>\n",
       "      <td>413</td>\n",
       "      <td>264</td>\n",
       "      <td>2021-09-16</td>\n",
       "    </tr>\n",
       "    <tr>\n",
       "      <th>2</th>\n",
       "      <td>&lt;광주시민께 드리는 글 - 민주당이 승리하도록,  결선투표를 만들어주십시오&gt;\\n존경...</td>\n",
       "      <td>1.3K</td>\n",
       "      <td>817</td>\n",
       "      <td>450</td>\n",
       "      <td>2021-09-16</td>\n",
       "    </tr>\n",
       "    <tr>\n",
       "      <th>3</th>\n",
       "      <td>&lt;정치인의 망발을 언제까지 견뎌야 합니까&gt;\\n어제 국회 본회의 대정부질문에서 국민의...</td>\n",
       "      <td>1.7K</td>\n",
       "      <td>534</td>\n",
       "      <td>482</td>\n",
       "      <td>2021-09-15</td>\n",
       "    </tr>\n",
       "    <tr>\n",
       "      <th>4</th>\n",
       "      <td>&lt;역사의 순간, 역사적인 선택에 참여해주십시오&gt;\\n더불어민주당의 대선후보를 선출하는...</td>\n",
       "      <td>1.1K</td>\n",
       "      <td>408</td>\n",
       "      <td>330</td>\n",
       "      <td>2021-09-14</td>\n",
       "    </tr>\n",
       "    <tr>\n",
       "      <th>...</th>\n",
       "      <td>...</td>\n",
       "      <td>...</td>\n",
       "      <td>...</td>\n",
       "      <td>...</td>\n",
       "      <td>...</td>\n",
       "    </tr>\n",
       "    <tr>\n",
       "      <th>609</th>\n",
       "      <td>8월 7~8일 큰 수해를 당한 전북 남원, 전남 곡성 구례, 경남 하동 화개장터. ...</td>\n",
       "      <td>2K</td>\n",
       "      <td>145</td>\n",
       "      <td>132</td>\n",
       "      <td>2020-9-19</td>\n",
       "    </tr>\n",
       "    <tr>\n",
       "      <th>610</th>\n",
       "      <td>서울 종로구 통인시장. 국내외 관광객과 손님들로 붐비던 곳. 코로나19로 한산해졌습...</td>\n",
       "      <td>2.8K</td>\n",
       "      <td>210</td>\n",
       "      <td>116</td>\n",
       "      <td>2020-9-18</td>\n",
       "    </tr>\n",
       "    <tr>\n",
       "      <th>611</th>\n",
       "      <td>저희 더불어민주당 소속 오영환 국회의원의 미담이 한 달 만에 세상에 알려졌습니다.\\...</td>\n",
       "      <td>3.7K</td>\n",
       "      <td>177</td>\n",
       "      <td>163</td>\n",
       "      <td>2020-9-17</td>\n",
       "    </tr>\n",
       "    <tr>\n",
       "      <th>612</th>\n",
       "      <td>국내 제약기업 셀트리온이 코로나19 항체치료제 9만명분 생산체제를 갖춘다고 합니다....</td>\n",
       "      <td>2.2K</td>\n",
       "      <td>188</td>\n",
       "      <td>114</td>\n",
       "      <td>2020-9-17</td>\n",
       "    </tr>\n",
       "    <tr>\n",
       "      <th>613</th>\n",
       "      <td>코로나19로 많은 국민께서 고통 받고 계십니다. 어제 14일 중소기업중앙회(회장 김...</td>\n",
       "      <td>1.7K</td>\n",
       "      <td>265</td>\n",
       "      <td>124</td>\n",
       "      <td>2020-9-15</td>\n",
       "    </tr>\n",
       "  </tbody>\n",
       "</table>\n",
       "<p>614 rows × 5 columns</p>\n",
       "</div>"
      ],
      "text/plain": [
       "                                              sentence like_count  \\\n",
       "0    <홍영표 김종민 신동근 의원님 지지선언, 힘이 솟습니다>\\n더불어민주당 홍영표, 김...        636   \n",
       "1    <윤석열씨의 대책없는 노동관>\\n“손발로 하는 노동은 인도도 안 하고 아프리카나 한...        633   \n",
       "2    <광주시민께 드리는 글 - 민주당이 승리하도록,  결선투표를 만들어주십시오>\\n존경...       1.3K   \n",
       "3    <정치인의 망발을 언제까지 견뎌야 합니까>\\n어제 국회 본회의 대정부질문에서 국민의...       1.7K   \n",
       "4    <역사의 순간, 역사적인 선택에 참여해주십시오>\\n더불어민주당의 대선후보를 선출하는...       1.1K   \n",
       "..                                                 ...        ...   \n",
       "609  8월 7~8일 큰 수해를 당한 전북 남원, 전남 곡성 구례, 경남 하동 화개장터. ...         2K   \n",
       "610  서울 종로구 통인시장. 국내외 관광객과 손님들로 붐비던 곳. 코로나19로 한산해졌습...       2.8K   \n",
       "611  저희 더불어민주당 소속 오영환 국회의원의 미담이 한 달 만에 세상에 알려졌습니다.\\...       3.7K   \n",
       "612  국내 제약기업 셀트리온이 코로나19 항체치료제 9만명분 생산체제를 갖춘다고 합니다....       2.2K   \n",
       "613  코로나19로 많은 국민께서 고통 받고 계십니다. 어제 14일 중소기업중앙회(회장 김...       1.7K   \n",
       "\n",
       "    comment_count  share_count        date  \n",
       "0             224          224  2021-09-16  \n",
       "1             413          264  2021-09-16  \n",
       "2             817          450  2021-09-16  \n",
       "3             534          482  2021-09-15  \n",
       "4             408          330  2021-09-14  \n",
       "..            ...          ...         ...  \n",
       "609           145          132   2020-9-19  \n",
       "610           210          116   2020-9-18  \n",
       "611           177          163   2020-9-17  \n",
       "612           188          114   2020-9-17  \n",
       "613           265          124   2020-9-15  \n",
       "\n",
       "[614 rows x 5 columns]"
      ]
     },
     "execution_count": 22,
     "metadata": {},
     "output_type": "execute_result"
    }
   ],
   "source": [
    "df1 = pd.read_csv('data/이낙연_.csv')\n",
    "df1 = df1.iloc[:10000,:]\n",
    "df1 = df1.rename(columns={\"post\": \"sentence\"})\n",
    "df1"
   ]
  },
  {
   "cell_type": "code",
   "execution_count": 23,
   "id": "898bc745",
   "metadata": {},
   "outputs": [
    {
     "data": {
      "text/html": [
       "<div>\n",
       "<style scoped>\n",
       "    .dataframe tbody tr th:only-of-type {\n",
       "        vertical-align: middle;\n",
       "    }\n",
       "\n",
       "    .dataframe tbody tr th {\n",
       "        vertical-align: top;\n",
       "    }\n",
       "\n",
       "    .dataframe thead th {\n",
       "        text-align: right;\n",
       "    }\n",
       "</style>\n",
       "<table border=\"1\" class=\"dataframe\">\n",
       "  <thead>\n",
       "    <tr style=\"text-align: right;\">\n",
       "      <th></th>\n",
       "      <th>sentence</th>\n",
       "      <th>like_count</th>\n",
       "      <th>comment_count</th>\n",
       "      <th>share_count</th>\n",
       "      <th>date</th>\n",
       "    </tr>\n",
       "  </thead>\n",
       "  <tbody>\n",
       "    <tr>\n",
       "      <th>0</th>\n",
       "      <td>&lt;'임금체불 근절' 노동자의 시름을 덜어드리겠습니다&gt;\\n민족의 대명절인 한가위가 며...</td>\n",
       "      <td>1.3K</td>\n",
       "      <td>113</td>\n",
       "      <td>163</td>\n",
       "      <td>2021-09-16</td>\n",
       "    </tr>\n",
       "    <tr>\n",
       "      <th>1</th>\n",
       "      <td>&lt;세계 7번째 SLBM 성공, 자주국방 실현에 성큼 다가선 쾌거&gt;\\n오늘 우리 해군...</td>\n",
       "      <td>2K</td>\n",
       "      <td>159</td>\n",
       "      <td>176</td>\n",
       "      <td>2021-09-15</td>\n",
       "    </tr>\n",
       "    <tr>\n",
       "      <th>2</th>\n",
       "      <td>- 제3차 경기도 재난기본소득 지급 관련 경기도지사 기자회견 - \\n&lt;10월 1일,...</td>\n",
       "      <td>2.6K</td>\n",
       "      <td>207</td>\n",
       "      <td>187</td>\n",
       "      <td>2021-09-15</td>\n",
       "    </tr>\n",
       "    <tr>\n",
       "      <th>3</th>\n",
       "      <td>&lt;기본소득의 수혜자가 ‘전 국민’인 이유, 추가답변 드립니다&gt;\\n어제 이낙연 후보님...</td>\n",
       "      <td>5.1K</td>\n",
       "      <td>503</td>\n",
       "      <td>473</td>\n",
       "      <td>2021-09-15</td>\n",
       "    </tr>\n",
       "    <tr>\n",
       "      <th>4</th>\n",
       "      <td>&lt;벼랑 끝에 선 심정을 헤아려야 합니다.&gt;\\n안타까운 소식들이 연이어 들려옵니다. ...</td>\n",
       "      <td>1.5K</td>\n",
       "      <td>127</td>\n",
       "      <td>76</td>\n",
       "      <td>2021-09-15</td>\n",
       "    </tr>\n",
       "    <tr>\n",
       "      <th>...</th>\n",
       "      <td>...</td>\n",
       "      <td>...</td>\n",
       "      <td>...</td>\n",
       "      <td>...</td>\n",
       "      <td>...</td>\n",
       "    </tr>\n",
       "    <tr>\n",
       "      <th>704</th>\n",
       "      <td>&lt;공수처법 개정안 발의를 환영합니다&gt;\\n어제 백혜련 의원님께서 '공수처법 개정안'을...</td>\n",
       "      <td>4.2K</td>\n",
       "      <td>398</td>\n",
       "      <td>247</td>\n",
       "      <td>2020-9-15</td>\n",
       "    </tr>\n",
       "    <tr>\n",
       "      <th>705</th>\n",
       "      <td>&lt;어려운 결단 하신 이용섭 광주시장님&gt;\\n광역시도 통합은 역내 균형발전, 공무원 수...</td>\n",
       "      <td>1.4K</td>\n",
       "      <td>65</td>\n",
       "      <td>47</td>\n",
       "      <td>2020-9-15</td>\n",
       "    </tr>\n",
       "    <tr>\n",
       "      <th>706</th>\n",
       "      <td>&lt;9/15 0시 기준 경기도 코로나19 발생 현황&gt;  \\n○ 확진자 현황 (경기도 ...</td>\n",
       "      <td>643</td>\n",
       "      <td>22</td>\n",
       "      <td>11</td>\n",
       "      <td>2020-9-15</td>\n",
       "    </tr>\n",
       "    <tr>\n",
       "      <th>707</th>\n",
       "      <td>&lt;조선일보 기사 수준이 왜 이럽니까?&gt;\\n명색이 전통있는 중앙일간지라는 조선일보가 ...</td>\n",
       "      <td>3.7K</td>\n",
       "      <td>458</td>\n",
       "      <td>201</td>\n",
       "      <td>2020-9-15</td>\n",
       "    </tr>\n",
       "    <tr>\n",
       "      <th>708</th>\n",
       "      <td>&lt;비정규직 차별 해소를 위한 작은 첫걸음&gt;\\n정규직과 비정규직간 임금 차이 극복 위...</td>\n",
       "      <td>1.5K</td>\n",
       "      <td>108</td>\n",
       "      <td>140</td>\n",
       "      <td>2020-9-15</td>\n",
       "    </tr>\n",
       "  </tbody>\n",
       "</table>\n",
       "<p>709 rows × 5 columns</p>\n",
       "</div>"
      ],
      "text/plain": [
       "                                              sentence like_count  \\\n",
       "0    <'임금체불 근절' 노동자의 시름을 덜어드리겠습니다>\\n민족의 대명절인 한가위가 며...       1.3K   \n",
       "1    <세계 7번째 SLBM 성공, 자주국방 실현에 성큼 다가선 쾌거>\\n오늘 우리 해군...         2K   \n",
       "2    - 제3차 경기도 재난기본소득 지급 관련 경기도지사 기자회견 - \\n<10월 1일,...       2.6K   \n",
       "3    <기본소득의 수혜자가 ‘전 국민’인 이유, 추가답변 드립니다>\\n어제 이낙연 후보님...       5.1K   \n",
       "4    <벼랑 끝에 선 심정을 헤아려야 합니다.>\\n안타까운 소식들이 연이어 들려옵니다. ...       1.5K   \n",
       "..                                                 ...        ...   \n",
       "704  <공수처법 개정안 발의를 환영합니다>\\n어제 백혜련 의원님께서 '공수처법 개정안'을...       4.2K   \n",
       "705  <어려운 결단 하신 이용섭 광주시장님>\\n광역시도 통합은 역내 균형발전, 공무원 수...       1.4K   \n",
       "706  <9/15 0시 기준 경기도 코로나19 발생 현황>  \\n○ 확진자 현황 (경기도 ...        643   \n",
       "707  <조선일보 기사 수준이 왜 이럽니까?>\\n명색이 전통있는 중앙일간지라는 조선일보가 ...       3.7K   \n",
       "708  <비정규직 차별 해소를 위한 작은 첫걸음>\\n정규직과 비정규직간 임금 차이 극복 위...       1.5K   \n",
       "\n",
       "    comment_count share_count        date  \n",
       "0             113         163  2021-09-16  \n",
       "1             159         176  2021-09-15  \n",
       "2             207         187  2021-09-15  \n",
       "3             503         473  2021-09-15  \n",
       "4             127          76  2021-09-15  \n",
       "..            ...         ...         ...  \n",
       "704           398         247   2020-9-15  \n",
       "705            65          47   2020-9-15  \n",
       "706            22          11   2020-9-15  \n",
       "707           458         201   2020-9-15  \n",
       "708           108         140   2020-9-15  \n",
       "\n",
       "[709 rows x 5 columns]"
      ]
     },
     "execution_count": 23,
     "metadata": {},
     "output_type": "execute_result"
    }
   ],
   "source": [
    "df2 = pd.read_csv('data/이재명_.csv')\n",
    "df2 = df2.iloc[:10000,:]\n",
    "df2 = df2.rename(columns={\"post\": \"sentence\"})\n",
    "df2"
   ]
  },
  {
   "cell_type": "code",
   "execution_count": 24,
   "id": "67b40d71",
   "metadata": {},
   "outputs": [
    {
     "data": {
      "text/html": [
       "<div>\n",
       "<style scoped>\n",
       "    .dataframe tbody tr th:only-of-type {\n",
       "        vertical-align: middle;\n",
       "    }\n",
       "\n",
       "    .dataframe tbody tr th {\n",
       "        vertical-align: top;\n",
       "    }\n",
       "\n",
       "    .dataframe thead th {\n",
       "        text-align: right;\n",
       "    }\n",
       "</style>\n",
       "<table border=\"1\" class=\"dataframe\">\n",
       "  <thead>\n",
       "    <tr style=\"text-align: right;\">\n",
       "      <th></th>\n",
       "      <th>sentence</th>\n",
       "      <th>like_count</th>\n",
       "      <th>comment_count</th>\n",
       "      <th>share_count</th>\n",
       "      <th>date</th>\n",
       "    </tr>\n",
       "  </thead>\n",
       "  <tbody>\n",
       "    <tr>\n",
       "      <th>0</th>\n",
       "      <td>존경하는 국민 여러분, \\n민주당 당원동지 여러분,\\n부족한 저를 오랫동안 성원해주...</td>\n",
       "      <td>2.4K</td>\n",
       "      <td>551</td>\n",
       "      <td>150</td>\n",
       "      <td>2021-9-13</td>\n",
       "    </tr>\n",
       "    <tr>\n",
       "      <th>1</th>\n",
       "      <td>윤석열, 최재형 후보가 공수처의 윤석열 ‘고발 사주’ 수사를 불법 대선 개입으로 규...</td>\n",
       "      <td>491</td>\n",
       "      <td>35</td>\n",
       "      <td>96</td>\n",
       "      <td>2021-09-13</td>\n",
       "    </tr>\n",
       "    <tr>\n",
       "      <th>2</th>\n",
       "      <td>지지해 주신 당원동지와 국민께 \\n진심으로 감사드립니다.\\n여러분의 선택을 겸허하게...</td>\n",
       "      <td>575</td>\n",
       "      <td>97</td>\n",
       "      <td>61</td>\n",
       "      <td>2021-9-12</td>\n",
       "    </tr>\n",
       "    <tr>\n",
       "      <th>3</th>\n",
       "      <td>이재명 후보도 홍준표 후보도 품격을 지키십시오.\\n차기 대통령을 선출하는 선거입니다...</td>\n",
       "      <td>394</td>\n",
       "      <td>124</td>\n",
       "      <td>54</td>\n",
       "      <td>2021-9-12</td>\n",
       "    </tr>\n",
       "    <tr>\n",
       "      <th>4</th>\n",
       "      <td>‘공작’은 은밀히 벌이는 일입니다. 동네방네 소문내며 벌이는 공작은 없습니다. \\n...</td>\n",
       "      <td>305</td>\n",
       "      <td>23</td>\n",
       "      <td>69</td>\n",
       "      <td>2021-09-12</td>\n",
       "    </tr>\n",
       "    <tr>\n",
       "      <th>...</th>\n",
       "      <td>...</td>\n",
       "      <td>...</td>\n",
       "      <td>...</td>\n",
       "      <td>...</td>\n",
       "      <td>...</td>\n",
       "    </tr>\n",
       "    <tr>\n",
       "      <th>319</th>\n",
       "      <td>사람 사는 세상은\\n함께 사는 세상입니다.\\n모두 어려운 시절입니다.\\n지친 마음 ...</td>\n",
       "      <td>590</td>\n",
       "      <td>31</td>\n",
       "      <td>28</td>\n",
       "      <td>2021-4-25</td>\n",
       "    </tr>\n",
       "    <tr>\n",
       "      <th>320</th>\n",
       "      <td>기다려왔던 기쁜 소식입니다.\\n국민이 함께하면 \\n반드시 코로나는 극복할 수 있습니...</td>\n",
       "      <td>304</td>\n",
       "      <td>5</td>\n",
       "      <td>5</td>\n",
       "      <td>2021-4-24</td>\n",
       "    </tr>\n",
       "    <tr>\n",
       "      <th>321</th>\n",
       "      <td>[KTV LIVE] \"전국적 대유행 중대기로, 못 막으면 3단계 격상 검토\" \\n정...</td>\n",
       "      <td>355</td>\n",
       "      <td>175</td>\n",
       "      <td>42</td>\n",
       "      <td>2020-8-18</td>\n",
       "    </tr>\n",
       "    <tr>\n",
       "      <th>322</th>\n",
       "      <td>생활 속 거리두기 시행 첫날입니다. \\n새로운 일상에 대한 기대와 혹시 모를 위험에...</td>\n",
       "      <td>531</td>\n",
       "      <td>50</td>\n",
       "      <td>11</td>\n",
       "      <td>2020-5-6</td>\n",
       "    </tr>\n",
       "    <tr>\n",
       "      <th>323</th>\n",
       "      <td>“어린이를 내려다보지 마시고 치어다보아(쳐다보아) 주시오”\\n“어린이에게 경어를 쓰...</td>\n",
       "      <td>677</td>\n",
       "      <td>46</td>\n",
       "      <td>12</td>\n",
       "      <td>2020-5-5</td>\n",
       "    </tr>\n",
       "  </tbody>\n",
       "</table>\n",
       "<p>324 rows × 5 columns</p>\n",
       "</div>"
      ],
      "text/plain": [
       "                                              sentence like_count  \\\n",
       "0    존경하는 국민 여러분, \\n민주당 당원동지 여러분,\\n부족한 저를 오랫동안 성원해주...       2.4K   \n",
       "1    윤석열, 최재형 후보가 공수처의 윤석열 ‘고발 사주’ 수사를 불법 대선 개입으로 규...        491   \n",
       "2    지지해 주신 당원동지와 국민께 \\n진심으로 감사드립니다.\\n여러분의 선택을 겸허하게...        575   \n",
       "3    이재명 후보도 홍준표 후보도 품격을 지키십시오.\\n차기 대통령을 선출하는 선거입니다...        394   \n",
       "4    ‘공작’은 은밀히 벌이는 일입니다. 동네방네 소문내며 벌이는 공작은 없습니다. \\n...        305   \n",
       "..                                                 ...        ...   \n",
       "319  사람 사는 세상은\\n함께 사는 세상입니다.\\n모두 어려운 시절입니다.\\n지친 마음 ...        590   \n",
       "320  기다려왔던 기쁜 소식입니다.\\n국민이 함께하면 \\n반드시 코로나는 극복할 수 있습니...        304   \n",
       "321  [KTV LIVE] \"전국적 대유행 중대기로, 못 막으면 3단계 격상 검토\" \\n정...        355   \n",
       "322  생활 속 거리두기 시행 첫날입니다. \\n새로운 일상에 대한 기대와 혹시 모를 위험에...        531   \n",
       "323  “어린이를 내려다보지 마시고 치어다보아(쳐다보아) 주시오”\\n“어린이에게 경어를 쓰...        677   \n",
       "\n",
       "     comment_count  share_count        date  \n",
       "0              551          150   2021-9-13  \n",
       "1               35           96  2021-09-13  \n",
       "2               97           61   2021-9-12  \n",
       "3              124           54   2021-9-12  \n",
       "4               23           69  2021-09-12  \n",
       "..             ...          ...         ...  \n",
       "319             31           28   2021-4-25  \n",
       "320              5            5   2021-4-24  \n",
       "321            175           42   2020-8-18  \n",
       "322             50           11    2020-5-6  \n",
       "323             46           12    2020-5-5  \n",
       "\n",
       "[324 rows x 5 columns]"
      ]
     },
     "execution_count": 24,
     "metadata": {},
     "output_type": "execute_result"
    }
   ],
   "source": [
    "df3 = pd.read_csv('data/정세균_.csv')\n",
    "df3 = df3.iloc[:10000,:]\n",
    "df3 = df3.rename(columns={\"post\": \"sentence\"})\n",
    "df3"
   ]
  },
  {
   "cell_type": "code",
   "execution_count": 26,
   "id": "3a89b7bc",
   "metadata": {},
   "outputs": [
    {
     "data": {
      "text/html": [
       "<div>\n",
       "<style scoped>\n",
       "    .dataframe tbody tr th:only-of-type {\n",
       "        vertical-align: middle;\n",
       "    }\n",
       "\n",
       "    .dataframe tbody tr th {\n",
       "        vertical-align: top;\n",
       "    }\n",
       "\n",
       "    .dataframe thead th {\n",
       "        text-align: right;\n",
       "    }\n",
       "</style>\n",
       "<table border=\"1\" class=\"dataframe\">\n",
       "  <thead>\n",
       "    <tr style=\"text-align: right;\">\n",
       "      <th></th>\n",
       "      <th>sentence</th>\n",
       "      <th>like_count</th>\n",
       "      <th>comment_count</th>\n",
       "      <th>share_count</th>\n",
       "      <th>date</th>\n",
       "    </tr>\n",
       "  </thead>\n",
       "  <tbody>\n",
       "    <tr>\n",
       "      <th>0</th>\n",
       "      <td>[오늘의 추미애]</td>\n",
       "      <td>798</td>\n",
       "      <td>72</td>\n",
       "      <td>25</td>\n",
       "      <td>2021-09-16</td>\n",
       "    </tr>\n",
       "    <tr>\n",
       "      <th>1</th>\n",
       "      <td>빙의 돼부렀소 ! 어쩌야쓰까 브루다이야님 ~~~\\n( 자식을 여섯이나 낳아 다 기르...</td>\n",
       "      <td>2.6K</td>\n",
       "      <td>160</td>\n",
       "      <td>76</td>\n",
       "      <td>2021-09-16</td>\n",
       "    </tr>\n",
       "    <tr>\n",
       "      <th>2</th>\n",
       "      <td>16일(목) 추미애 후보 광주 오후일정\\n■오후3시 \\n빚고을시민햇빛발전소 협동조합...</td>\n",
       "      <td>770</td>\n",
       "      <td>62</td>\n",
       "      <td>20</td>\n",
       "      <td>2021-09-16</td>\n",
       "    </tr>\n",
       "    <tr>\n",
       "      <th>3</th>\n",
       "      <td>윤석열이 검찰총장으로서 조직을 사유화해 정치에 노골적으로 개입한 윤석열의 난에 그 ...</td>\n",
       "      <td>5.6K</td>\n",
       "      <td>224</td>\n",
       "      <td>821</td>\n",
       "      <td>2021-09-16</td>\n",
       "    </tr>\n",
       "    <tr>\n",
       "      <th>4</th>\n",
       "      <td>존경하는 국민 여러분, 광주시민과 전남도민 여러분!\\n지난 7월 첫 번째 지역일정으...</td>\n",
       "      <td>3.1K</td>\n",
       "      <td>219</td>\n",
       "      <td>257</td>\n",
       "      <td>2021-09-16</td>\n",
       "    </tr>\n",
       "    <tr>\n",
       "      <th>...</th>\n",
       "      <td>...</td>\n",
       "      <td>...</td>\n",
       "      <td>...</td>\n",
       "      <td>...</td>\n",
       "      <td>...</td>\n",
       "    </tr>\n",
       "    <tr>\n",
       "      <th>396</th>\n",
       "      <td>개혁을 바라는 민주시민에 맞서 검찰과 언론이 반개혁 동맹전선을 형성하고 있습니다. ...</td>\n",
       "      <td>5.1K</td>\n",
       "      <td>568</td>\n",
       "      <td>332</td>\n",
       "      <td>2020-7-16</td>\n",
       "    </tr>\n",
       "    <tr>\n",
       "      <th>397</th>\n",
       "      <td>문제 언론이 계속 문제성 보도를 합니다. 대단합니다. 관음증 보도에 대한 답변이 이...</td>\n",
       "      <td>4.6K</td>\n",
       "      <td>415</td>\n",
       "      <td>116</td>\n",
       "      <td>2020-7-16</td>\n",
       "    </tr>\n",
       "    <tr>\n",
       "      <th>398</th>\n",
       "      <td>여성 장관에 대한 언론의 관음 증세가 심각합니다. 연가를 내고 산사로 간 첫날(7월...</td>\n",
       "      <td>7.4K</td>\n",
       "      <td>1.1K</td>\n",
       "      <td>719</td>\n",
       "      <td>2020-7-14</td>\n",
       "    </tr>\n",
       "    <tr>\n",
       "      <th>399</th>\n",
       "      <td>회전문식 엉터리 보도관행을 고발합니다.  \\n장관이 공개를 목적으로 직접 작성해서 ...</td>\n",
       "      <td>3.3K</td>\n",
       "      <td>353</td>\n",
       "      <td>218</td>\n",
       "      <td>2020-7-13</td>\n",
       "    </tr>\n",
       "    <tr>\n",
       "      <th>400</th>\n",
       "      <td>산사로 간 뜻은 제게 로비를 하지 말라는 경고였습니다. 하다하다 안되니까  말없는 ...</td>\n",
       "      <td>4K</td>\n",
       "      <td>421</td>\n",
       "      <td>234</td>\n",
       "      <td>2020-7-12</td>\n",
       "    </tr>\n",
       "  </tbody>\n",
       "</table>\n",
       "<p>401 rows × 5 columns</p>\n",
       "</div>"
      ],
      "text/plain": [
       "                                              sentence like_count  \\\n",
       "0                                            [오늘의 추미애]        798   \n",
       "1    빙의 돼부렀소 ! 어쩌야쓰까 브루다이야님 ~~~\\n( 자식을 여섯이나 낳아 다 기르...       2.6K   \n",
       "2    16일(목) 추미애 후보 광주 오후일정\\n■오후3시 \\n빚고을시민햇빛발전소 협동조합...        770   \n",
       "3    윤석열이 검찰총장으로서 조직을 사유화해 정치에 노골적으로 개입한 윤석열의 난에 그 ...       5.6K   \n",
       "4    존경하는 국민 여러분, 광주시민과 전남도민 여러분!\\n지난 7월 첫 번째 지역일정으...       3.1K   \n",
       "..                                                 ...        ...   \n",
       "396  개혁을 바라는 민주시민에 맞서 검찰과 언론이 반개혁 동맹전선을 형성하고 있습니다. ...       5.1K   \n",
       "397  문제 언론이 계속 문제성 보도를 합니다. 대단합니다. 관음증 보도에 대한 답변이 이...       4.6K   \n",
       "398  여성 장관에 대한 언론의 관음 증세가 심각합니다. 연가를 내고 산사로 간 첫날(7월...       7.4K   \n",
       "399  회전문식 엉터리 보도관행을 고발합니다.  \\n장관이 공개를 목적으로 직접 작성해서 ...       3.3K   \n",
       "400  산사로 간 뜻은 제게 로비를 하지 말라는 경고였습니다. 하다하다 안되니까  말없는 ...         4K   \n",
       "\n",
       "    comment_count share_count        date  \n",
       "0              72          25  2021-09-16  \n",
       "1             160          76  2021-09-16  \n",
       "2              62          20  2021-09-16  \n",
       "3             224         821  2021-09-16  \n",
       "4             219         257  2021-09-16  \n",
       "..            ...         ...         ...  \n",
       "396           568         332   2020-7-16  \n",
       "397           415         116   2020-7-16  \n",
       "398          1.1K         719   2020-7-14  \n",
       "399           353         218   2020-7-13  \n",
       "400           421         234   2020-7-12  \n",
       "\n",
       "[401 rows x 5 columns]"
      ]
     },
     "execution_count": 26,
     "metadata": {},
     "output_type": "execute_result"
    }
   ],
   "source": [
    "df4 = pd.read_csv('data/추미애_.csv')\n",
    "df4 = df4.iloc[:10000,:]\n",
    "df4 = df4.rename(columns={\"post\": \"sentence\"})\n",
    "df4"
   ]
  },
  {
   "cell_type": "code",
   "execution_count": 28,
   "id": "e44ffe2f",
   "metadata": {},
   "outputs": [
    {
     "data": {
      "text/html": [
       "<div>\n",
       "<style scoped>\n",
       "    .dataframe tbody tr th:only-of-type {\n",
       "        vertical-align: middle;\n",
       "    }\n",
       "\n",
       "    .dataframe tbody tr th {\n",
       "        vertical-align: top;\n",
       "    }\n",
       "\n",
       "    .dataframe thead th {\n",
       "        text-align: right;\n",
       "    }\n",
       "</style>\n",
       "<table border=\"1\" class=\"dataframe\">\n",
       "  <thead>\n",
       "    <tr style=\"text-align: right;\">\n",
       "      <th></th>\n",
       "      <th>sentence</th>\n",
       "      <th>like_count</th>\n",
       "      <th>comment_count</th>\n",
       "      <th>share_count</th>\n",
       "      <th>date</th>\n",
       "    </tr>\n",
       "  </thead>\n",
       "  <tbody>\n",
       "    <tr>\n",
       "      <th>0</th>\n",
       "      <td>&lt; 유승민의 약속: 자영업자 손실보상, 강하고 현실적인 해법을 약속합니다 &gt;  \\n...</td>\n",
       "      <td>127</td>\n",
       "      <td>17</td>\n",
       "      <td>25</td>\n",
       "      <td>2021-09-16</td>\n",
       "    </tr>\n",
       "    <tr>\n",
       "      <th>1</th>\n",
       "      <td>[희망캠프에서 알려드립니다]\\n유승민 대선 예비후보는 오늘(16일) 국민의힘 대선후...</td>\n",
       "      <td>120</td>\n",
       "      <td>17</td>\n",
       "      <td>14</td>\n",
       "      <td>2021-09-16</td>\n",
       "    </tr>\n",
       "    <tr>\n",
       "      <th>2</th>\n",
       "      <td>&lt; 윤석열 후보님, 중문학과 장동원 학생의 질문에 답해주세요 &gt;\\n윤석열 후보님, ...</td>\n",
       "      <td>414</td>\n",
       "      <td>57</td>\n",
       "      <td>35</td>\n",
       "      <td>2021-09-16</td>\n",
       "    </tr>\n",
       "    <tr>\n",
       "      <th>3</th>\n",
       "      <td>&lt; 어젯밤 인스타 라방에서의 소중한 말씀들... &gt;\\n어젯밤 두번째 인스타 라방을 ...</td>\n",
       "      <td>277</td>\n",
       "      <td>40</td>\n",
       "      <td>43</td>\n",
       "      <td>2021-09-16</td>\n",
       "    </tr>\n",
       "    <tr>\n",
       "      <th>4</th>\n",
       "      <td>[희망캠프에서 알려드립니다]\\n유승민 예비후보의 9월 16일(목) 일정 안내드립니다...</td>\n",
       "      <td>149</td>\n",
       "      <td>32</td>\n",
       "      <td>10</td>\n",
       "      <td>2021-09-15</td>\n",
       "    </tr>\n",
       "    <tr>\n",
       "      <th>...</th>\n",
       "      <td>...</td>\n",
       "      <td>...</td>\n",
       "      <td>...</td>\n",
       "      <td>...</td>\n",
       "      <td>...</td>\n",
       "    </tr>\n",
       "    <tr>\n",
       "      <th>429</th>\n",
       "      <td>국군의날입니다.\\n제 지역구인 대구 동구 K2 공군기지에서 열리는 국군의날 행사로 ...</td>\n",
       "      <td>686</td>\n",
       "      <td>60</td>\n",
       "      <td>17</td>\n",
       "      <td>2019-10-1</td>\n",
       "    </tr>\n",
       "    <tr>\n",
       "      <th>430</th>\n",
       "      <td>대통령의 협박을 이겨내라.\\n그게 진정한 검찰개혁이다!\\n오늘 문재인 대통령은 \"검...</td>\n",
       "      <td>1.4K</td>\n",
       "      <td>830</td>\n",
       "      <td>81</td>\n",
       "      <td>2019-9-27</td>\n",
       "    </tr>\n",
       "    <tr>\n",
       "      <th>431</th>\n",
       "      <td>당신들은 북한의 보훈처냐?\\n하재헌 중사는 2015년 8월 4일 북한이 DMZ 수색...</td>\n",
       "      <td>1.3K</td>\n",
       "      <td>300</td>\n",
       "      <td>90</td>\n",
       "      <td>2019-9-17</td>\n",
       "    </tr>\n",
       "    <tr>\n",
       "      <th>432</th>\n",
       "      <td>국민을 우롱하는 대통령의 난치성 자화자찬\\n문재인 대통령은 오늘 \"우리 경제가 어려...</td>\n",
       "      <td>1.3K</td>\n",
       "      <td>293</td>\n",
       "      <td>79</td>\n",
       "      <td>2019-9-16</td>\n",
       "    </tr>\n",
       "    <tr>\n",
       "      <th>433</th>\n",
       "      <td>살아있는 권력을 법대로! 그게 진짜 검찰개혁이다.\\n조국 법무장관 임명 이후 \"반대...</td>\n",
       "      <td>1.2K</td>\n",
       "      <td>318</td>\n",
       "      <td>49</td>\n",
       "      <td>2019-9-15</td>\n",
       "    </tr>\n",
       "  </tbody>\n",
       "</table>\n",
       "<p>434 rows × 5 columns</p>\n",
       "</div>"
      ],
      "text/plain": [
       "                                              sentence like_count  \\\n",
       "0    < 유승민의 약속: 자영업자 손실보상, 강하고 현실적인 해법을 약속합니다 >  \\n...        127   \n",
       "1    [희망캠프에서 알려드립니다]\\n유승민 대선 예비후보는 오늘(16일) 국민의힘 대선후...        120   \n",
       "2    < 윤석열 후보님, 중문학과 장동원 학생의 질문에 답해주세요 >\\n윤석열 후보님, ...        414   \n",
       "3    < 어젯밤 인스타 라방에서의 소중한 말씀들... >\\n어젯밤 두번째 인스타 라방을 ...        277   \n",
       "4    [희망캠프에서 알려드립니다]\\n유승민 예비후보의 9월 16일(목) 일정 안내드립니다...        149   \n",
       "..                                                 ...        ...   \n",
       "429  국군의날입니다.\\n제 지역구인 대구 동구 K2 공군기지에서 열리는 국군의날 행사로 ...        686   \n",
       "430  대통령의 협박을 이겨내라.\\n그게 진정한 검찰개혁이다!\\n오늘 문재인 대통령은 \"검...       1.4K   \n",
       "431  당신들은 북한의 보훈처냐?\\n하재헌 중사는 2015년 8월 4일 북한이 DMZ 수색...       1.3K   \n",
       "432  국민을 우롱하는 대통령의 난치성 자화자찬\\n문재인 대통령은 오늘 \"우리 경제가 어려...       1.3K   \n",
       "433  살아있는 권력을 법대로! 그게 진짜 검찰개혁이다.\\n조국 법무장관 임명 이후 \"반대...       1.2K   \n",
       "\n",
       "     comment_count  share_count        date  \n",
       "0               17           25  2021-09-16  \n",
       "1               17           14  2021-09-16  \n",
       "2               57           35  2021-09-16  \n",
       "3               40           43  2021-09-16  \n",
       "4               32           10  2021-09-15  \n",
       "..             ...          ...         ...  \n",
       "429             60           17   2019-10-1  \n",
       "430            830           81   2019-9-27  \n",
       "431            300           90   2019-9-17  \n",
       "432            293           79   2019-9-16  \n",
       "433            318           49   2019-9-15  \n",
       "\n",
       "[434 rows x 5 columns]"
      ]
     },
     "execution_count": 28,
     "metadata": {},
     "output_type": "execute_result"
    }
   ],
   "source": [
    "df5 = pd.read_csv('data/유승민_.csv')\n",
    "df5 = df5.iloc[:10000,:]\n",
    "df5 = df5.rename(columns={\"post\": \"sentence\"})\n",
    "df5"
   ]
  },
  {
   "cell_type": "code",
   "execution_count": 29,
   "id": "079170d2",
   "metadata": {},
   "outputs": [
    {
     "data": {
      "text/html": [
       "<div>\n",
       "<style scoped>\n",
       "    .dataframe tbody tr th:only-of-type {\n",
       "        vertical-align: middle;\n",
       "    }\n",
       "\n",
       "    .dataframe tbody tr th {\n",
       "        vertical-align: top;\n",
       "    }\n",
       "\n",
       "    .dataframe thead th {\n",
       "        text-align: right;\n",
       "    }\n",
       "</style>\n",
       "<table border=\"1\" class=\"dataframe\">\n",
       "  <thead>\n",
       "    <tr style=\"text-align: right;\">\n",
       "      <th></th>\n",
       "      <th>sentence</th>\n",
       "      <th>like_count</th>\n",
       "      <th>comment_count</th>\n",
       "      <th>share_count</th>\n",
       "      <th>date</th>\n",
       "    </tr>\n",
       "  </thead>\n",
       "  <tbody>\n",
       "    <tr>\n",
       "      <th>0</th>\n",
       "      <td>북한은 지난 주말 순항미사일을 발사한데 이어 오늘 다시 탄도미사일로 추정되는 무력시...</td>\n",
       "      <td>1.8K</td>\n",
       "      <td>568</td>\n",
       "      <td>87</td>\n",
       "      <td>2021-09-15</td>\n",
       "    </tr>\n",
       "    <tr>\n",
       "      <th>1</th>\n",
       "      <td>존경하는 국민여러분, \\n그리고 당원동지 여러분\\n국민의힘 대선 예비후보 윤석열입니...</td>\n",
       "      <td>4.4K</td>\n",
       "      <td>1.4K</td>\n",
       "      <td>281</td>\n",
       "      <td>2021-09-15</td>\n",
       "    </tr>\n",
       "    <tr>\n",
       "      <th>2</th>\n",
       "      <td>선비정신과 충절의 고장, 안동이 백신산업의 요람이자 바이오산업 도시로 떠오르고 있습...</td>\n",
       "      <td>2.4K</td>\n",
       "      <td>630</td>\n",
       "      <td>141</td>\n",
       "      <td>2021-09-14</td>\n",
       "    </tr>\n",
       "    <tr>\n",
       "      <th>3</th>\n",
       "      <td>상상23 청년 세미나 ‘청년, 희망을 해킹하라’에 참석해 청년들의 정책을 귀담아들었...</td>\n",
       "      <td>2.8K</td>\n",
       "      <td>685</td>\n",
       "      <td>159</td>\n",
       "      <td>2021-09-13</td>\n",
       "    </tr>\n",
       "    <tr>\n",
       "      <th>4</th>\n",
       "      <td>소상공인 여러분들! 안정적으로 사실 수 있도록\\n정권교체, 경제살리기 반드시 해내겠...</td>\n",
       "      <td>1.8K</td>\n",
       "      <td>840</td>\n",
       "      <td>143</td>\n",
       "      <td>2021-09-10</td>\n",
       "    </tr>\n",
       "    <tr>\n",
       "      <th>...</th>\n",
       "      <td>...</td>\n",
       "      <td>...</td>\n",
       "      <td>...</td>\n",
       "      <td>...</td>\n",
       "      <td>...</td>\n",
       "    </tr>\n",
       "    <tr>\n",
       "      <th>80</th>\n",
       "      <td>오늘 국민 기자회견 사진도 공유합니다.</td>\n",
       "      <td>6.5K</td>\n",
       "      <td>398</td>\n",
       "      <td>61</td>\n",
       "      <td>2021-6-29</td>\n",
       "    </tr>\n",
       "    <tr>\n",
       "      <th>81</th>\n",
       "      <td>오늘 국민 여러분께 말씀드린 \\n&lt;윤석열 국민 기자회견문&gt; 전문을 올립니다.\\n--...</td>\n",
       "      <td>6.4K</td>\n",
       "      <td>420</td>\n",
       "      <td>107</td>\n",
       "      <td>2021-6-29</td>\n",
       "    </tr>\n",
       "    <tr>\n",
       "      <th>82</th>\n",
       "      <td>안녕하세요\\n국민 여러분, 그리고 페친 여러분! \\n여러분께 더 가까이 다가가고\\n...</td>\n",
       "      <td>6.8K</td>\n",
       "      <td>910</td>\n",
       "      <td>81</td>\n",
       "      <td>2021-6-29</td>\n",
       "    </tr>\n",
       "    <tr>\n",
       "      <th>83</th>\n",
       "      <td>No post text</td>\n",
       "      <td>5K</td>\n",
       "      <td>176</td>\n",
       "      <td>15</td>\n",
       "      <td>2021-6-29</td>\n",
       "    </tr>\n",
       "    <tr>\n",
       "      <th>84</th>\n",
       "      <td>토리와 함께</td>\n",
       "      <td>7.9K</td>\n",
       "      <td>1.4K</td>\n",
       "      <td>99</td>\n",
       "      <td>2021-6-29</td>\n",
       "    </tr>\n",
       "  </tbody>\n",
       "</table>\n",
       "<p>85 rows × 5 columns</p>\n",
       "</div>"
      ],
      "text/plain": [
       "                                             sentence like_count  \\\n",
       "0   북한은 지난 주말 순항미사일을 발사한데 이어 오늘 다시 탄도미사일로 추정되는 무력시...       1.8K   \n",
       "1   존경하는 국민여러분, \\n그리고 당원동지 여러분\\n국민의힘 대선 예비후보 윤석열입니...       4.4K   \n",
       "2   선비정신과 충절의 고장, 안동이 백신산업의 요람이자 바이오산업 도시로 떠오르고 있습...       2.4K   \n",
       "3   상상23 청년 세미나 ‘청년, 희망을 해킹하라’에 참석해 청년들의 정책을 귀담아들었...       2.8K   \n",
       "4   소상공인 여러분들! 안정적으로 사실 수 있도록\\n정권교체, 경제살리기 반드시 해내겠...       1.8K   \n",
       "..                                                ...        ...   \n",
       "80                              오늘 국민 기자회견 사진도 공유합니다.       6.5K   \n",
       "81  오늘 국민 여러분께 말씀드린 \\n<윤석열 국민 기자회견문> 전문을 올립니다.\\n--...       6.4K   \n",
       "82  안녕하세요\\n국민 여러분, 그리고 페친 여러분! \\n여러분께 더 가까이 다가가고\\n...       6.8K   \n",
       "83                                       No post text         5K   \n",
       "84                                             토리와 함께       7.9K   \n",
       "\n",
       "   comment_count  share_count        date  \n",
       "0            568           87  2021-09-15  \n",
       "1           1.4K          281  2021-09-15  \n",
       "2            630          141  2021-09-14  \n",
       "3            685          159  2021-09-13  \n",
       "4            840          143  2021-09-10  \n",
       "..           ...          ...         ...  \n",
       "80           398           61   2021-6-29  \n",
       "81           420          107   2021-6-29  \n",
       "82           910           81   2021-6-29  \n",
       "83           176           15   2021-6-29  \n",
       "84          1.4K           99   2021-6-29  \n",
       "\n",
       "[85 rows x 5 columns]"
      ]
     },
     "execution_count": 29,
     "metadata": {},
     "output_type": "execute_result"
    }
   ],
   "source": [
    "df6 = pd.read_csv('data/윤석열_.csv')\n",
    "df6 = df6.iloc[:10000,:]\n",
    "df6 = df6.rename(columns={\"post\": \"sentence\"})\n",
    "df6"
   ]
  },
  {
   "cell_type": "code",
   "execution_count": 30,
   "id": "02bc9404",
   "metadata": {},
   "outputs": [
    {
     "data": {
      "text/html": [
       "<div>\n",
       "<style scoped>\n",
       "    .dataframe tbody tr th:only-of-type {\n",
       "        vertical-align: middle;\n",
       "    }\n",
       "\n",
       "    .dataframe tbody tr th {\n",
       "        vertical-align: top;\n",
       "    }\n",
       "\n",
       "    .dataframe thead th {\n",
       "        text-align: right;\n",
       "    }\n",
       "</style>\n",
       "<table border=\"1\" class=\"dataframe\">\n",
       "  <thead>\n",
       "    <tr style=\"text-align: right;\">\n",
       "      <th></th>\n",
       "      <th>sentence</th>\n",
       "      <th>like_count</th>\n",
       "      <th>comment_count</th>\n",
       "      <th>share_count</th>\n",
       "      <th>date</th>\n",
       "    </tr>\n",
       "  </thead>\n",
       "  <tbody>\n",
       "    <tr>\n",
       "      <th>0</th>\n",
       "      <td>-조사개요-\\n조사의뢰 : 뉴스토마토\\n조사기관 : 미디어토마토\\n조사일시 : 20...</td>\n",
       "      <td>776</td>\n",
       "      <td>51</td>\n",
       "      <td>48</td>\n",
       "      <td>2021-09-16</td>\n",
       "    </tr>\n",
       "    <tr>\n",
       "      <th>1</th>\n",
       "      <td>추석 민심이 지나면 더 기울어 질겁니다.</td>\n",
       "      <td>1.2K</td>\n",
       "      <td>39</td>\n",
       "      <td>62</td>\n",
       "      <td>2021-09-16</td>\n",
       "    </tr>\n",
       "    <tr>\n",
       "      <th>2</th>\n",
       "      <td>jp희망 편지 23 \\n자영업자.소상공인 분들의 극단적인 선택이 줄을 잇는 비극적인...</td>\n",
       "      <td>898</td>\n",
       "      <td>35</td>\n",
       "      <td>70</td>\n",
       "      <td>2021-09-16</td>\n",
       "    </tr>\n",
       "    <tr>\n",
       "      <th>3</th>\n",
       "      <td>당에서 공명선거 추진단을 만들어 놓고\\n특정후보 옹호나 하면서\\n그 후보측에서 경쟁...</td>\n",
       "      <td>1.4K</td>\n",
       "      <td>49</td>\n",
       "      <td>49</td>\n",
       "      <td>2021-09-15</td>\n",
       "    </tr>\n",
       "    <tr>\n",
       "      <th>4</th>\n",
       "      <td>서울대 사회과학대 학생회 초청으로 특강을 가서 10분 기조발제 하고 1시간 20분 ...</td>\n",
       "      <td>1.1K</td>\n",
       "      <td>41</td>\n",
       "      <td>53</td>\n",
       "      <td>2021-09-15</td>\n",
       "    </tr>\n",
       "    <tr>\n",
       "      <th>...</th>\n",
       "      <td>...</td>\n",
       "      <td>...</td>\n",
       "      <td>...</td>\n",
       "      <td>...</td>\n",
       "      <td>...</td>\n",
       "    </tr>\n",
       "    <tr>\n",
       "      <th>457</th>\n",
       "      <td>어머님 산소에 왔습니다.\\n경남지사때는 매달 왔는데 서울로 올라가고 나서는 드문드문...</td>\n",
       "      <td>2.9K</td>\n",
       "      <td>60</td>\n",
       "      <td>46</td>\n",
       "      <td>2020-9-20</td>\n",
       "    </tr>\n",
       "    <tr>\n",
       "      <th>458</th>\n",
       "      <td>요즘 유행하는 아바타 사진 입니다.\\n좌측은 접니다만 우측은 누구인지 한번 맞추어 ...</td>\n",
       "      <td>1.9K</td>\n",
       "      <td>123</td>\n",
       "      <td>41</td>\n",
       "      <td>2020-9-17</td>\n",
       "    </tr>\n",
       "    <tr>\n",
       "      <th>459</th>\n",
       "      <td>요즘은 출근하면 나랏일 보다가 쉴때는 40여년 전 대학시절에 읽었던 이병주 선생의 ...</td>\n",
       "      <td>1.4K</td>\n",
       "      <td>50</td>\n",
       "      <td>41</td>\n",
       "      <td>2020-9-17</td>\n",
       "    </tr>\n",
       "    <tr>\n",
       "      <th>460</th>\n",
       "      <td>오늘 서욱 국방부 장관 내정자 인사 청문회에서 서욱 후보자로부터 \\n한미일 자유주의...</td>\n",
       "      <td>1.4K</td>\n",
       "      <td>63</td>\n",
       "      <td>41</td>\n",
       "      <td>2020-9-16</td>\n",
       "    </tr>\n",
       "    <tr>\n",
       "      <th>461</th>\n",
       "      <td>정치는 한때 지나가는 바람에 불과한 것인데 \\n국방부가 추미애 아들 방어의 최전선에...</td>\n",
       "      <td>1.9K</td>\n",
       "      <td>59</td>\n",
       "      <td>101</td>\n",
       "      <td>2020-9-16</td>\n",
       "    </tr>\n",
       "  </tbody>\n",
       "</table>\n",
       "<p>462 rows × 5 columns</p>\n",
       "</div>"
      ],
      "text/plain": [
       "                                              sentence like_count  \\\n",
       "0    -조사개요-\\n조사의뢰 : 뉴스토마토\\n조사기관 : 미디어토마토\\n조사일시 : 20...        776   \n",
       "1                               추석 민심이 지나면 더 기울어 질겁니다.       1.2K   \n",
       "2    jp희망 편지 23 \\n자영업자.소상공인 분들의 극단적인 선택이 줄을 잇는 비극적인...        898   \n",
       "3    당에서 공명선거 추진단을 만들어 놓고\\n특정후보 옹호나 하면서\\n그 후보측에서 경쟁...       1.4K   \n",
       "4    서울대 사회과학대 학생회 초청으로 특강을 가서 10분 기조발제 하고 1시간 20분 ...       1.1K   \n",
       "..                                                 ...        ...   \n",
       "457  어머님 산소에 왔습니다.\\n경남지사때는 매달 왔는데 서울로 올라가고 나서는 드문드문...       2.9K   \n",
       "458  요즘 유행하는 아바타 사진 입니다.\\n좌측은 접니다만 우측은 누구인지 한번 맞추어 ...       1.9K   \n",
       "459  요즘은 출근하면 나랏일 보다가 쉴때는 40여년 전 대학시절에 읽었던 이병주 선생의 ...       1.4K   \n",
       "460  오늘 서욱 국방부 장관 내정자 인사 청문회에서 서욱 후보자로부터 \\n한미일 자유주의...       1.4K   \n",
       "461  정치는 한때 지나가는 바람에 불과한 것인데 \\n국방부가 추미애 아들 방어의 최전선에...       1.9K   \n",
       "\n",
       "     comment_count  share_count        date  \n",
       "0               51           48  2021-09-16  \n",
       "1               39           62  2021-09-16  \n",
       "2               35           70  2021-09-16  \n",
       "3               49           49  2021-09-15  \n",
       "4               41           53  2021-09-15  \n",
       "..             ...          ...         ...  \n",
       "457             60           46   2020-9-20  \n",
       "458            123           41   2020-9-17  \n",
       "459             50           41   2020-9-17  \n",
       "460             63           41   2020-9-16  \n",
       "461             59          101   2020-9-16  \n",
       "\n",
       "[462 rows x 5 columns]"
      ]
     },
     "execution_count": 30,
     "metadata": {},
     "output_type": "execute_result"
    }
   ],
   "source": [
    "df7 = pd.read_csv('data/홍준표_.csv')\n",
    "df7 = df7.iloc[:10000,:]\n",
    "df7 = df7.rename(columns={\"post\": \"sentence\"})\n",
    "df7"
   ]
  },
  {
   "cell_type": "code",
   "execution_count": 31,
   "id": "b417b5b5",
   "metadata": {},
   "outputs": [
    {
     "data": {
      "text/html": [
       "<div>\n",
       "<style scoped>\n",
       "    .dataframe tbody tr th:only-of-type {\n",
       "        vertical-align: middle;\n",
       "    }\n",
       "\n",
       "    .dataframe tbody tr th {\n",
       "        vertical-align: top;\n",
       "    }\n",
       "\n",
       "    .dataframe thead th {\n",
       "        text-align: right;\n",
       "    }\n",
       "</style>\n",
       "<table border=\"1\" class=\"dataframe\">\n",
       "  <thead>\n",
       "    <tr style=\"text-align: right;\">\n",
       "      <th></th>\n",
       "      <th>sentence</th>\n",
       "      <th>like_count</th>\n",
       "      <th>comment_count</th>\n",
       "      <th>share_count</th>\n",
       "      <th>date</th>\n",
       "    </tr>\n",
       "  </thead>\n",
       "  <tbody>\n",
       "    <tr>\n",
       "      <th>0</th>\n",
       "      <td>No post text</td>\n",
       "      <td>96</td>\n",
       "      <td>9</td>\n",
       "      <td>7</td>\n",
       "      <td>2021-08-02</td>\n",
       "    </tr>\n",
       "    <tr>\n",
       "      <th>1</th>\n",
       "      <td>&lt;故조용기 목사님을 추모합니다&gt;\\n주님의 종이 하나님의 부름을 받으셨습니다. 이 땅...</td>\n",
       "      <td>826</td>\n",
       "      <td>70</td>\n",
       "      <td>22</td>\n",
       "      <td>2021-09-15</td>\n",
       "    </tr>\n",
       "    <tr>\n",
       "      <th>2</th>\n",
       "      <td>&lt;‘깜놀 10억 벤처창업 배틀’로 스타트업 강국을 실현하겠습니다&gt;\\n오늘 판교 테크...</td>\n",
       "      <td>479</td>\n",
       "      <td>55</td>\n",
       "      <td>25</td>\n",
       "      <td>2021-9-14</td>\n",
       "    </tr>\n",
       "    <tr>\n",
       "      <th>3</th>\n",
       "      <td>&lt;‘깜놀 10억 벤처창업 배틀’로 스타트업 강국을 실현하겠습니다&gt;\\n오늘 판교밸리에...</td>\n",
       "      <td>465</td>\n",
       "      <td>72</td>\n",
       "      <td>31</td>\n",
       "      <td>2021-9-14</td>\n",
       "    </tr>\n",
       "    <tr>\n",
       "      <th>4</th>\n",
       "      <td>&lt;이래도 되는 겁니까?&gt;\\n서울시가 10년간 1조 가까운 시민혈세를 시민단체에게 비...</td>\n",
       "      <td>1.1K</td>\n",
       "      <td>112</td>\n",
       "      <td>79</td>\n",
       "      <td>2021-9-14</td>\n",
       "    </tr>\n",
       "    <tr>\n",
       "      <th>...</th>\n",
       "      <td>...</td>\n",
       "      <td>...</td>\n",
       "      <td>...</td>\n",
       "      <td>...</td>\n",
       "      <td>...</td>\n",
       "    </tr>\n",
       "    <tr>\n",
       "      <th>205</th>\n",
       "      <td>백의종군 첫 행선지로 부산을 찾았습니다. \\n'국민 속으로'는 제가 &lt;민생대장정&gt; ...</td>\n",
       "      <td>985</td>\n",
       "      <td>339</td>\n",
       "      <td>67</td>\n",
       "      <td>2021-3-11</td>\n",
       "    </tr>\n",
       "    <tr>\n",
       "      <th>206</th>\n",
       "      <td>‘야만의 정치’를 끝내야 합니다.\\n ‘개와 늑대의 시간’은 지났습니다. 우리는 그...</td>\n",
       "      <td>1.5K</td>\n",
       "      <td>363</td>\n",
       "      <td>107</td>\n",
       "      <td>2021-3-10</td>\n",
       "    </tr>\n",
       "    <tr>\n",
       "      <th>207</th>\n",
       "      <td>‘적반하장’도 유분수다. \\n여권의 '정치검사 윤석열' 운운은 정말 뻔뻔한 주장이다...</td>\n",
       "      <td>1.6K</td>\n",
       "      <td>346</td>\n",
       "      <td>94</td>\n",
       "      <td>2021-3-7</td>\n",
       "    </tr>\n",
       "    <tr>\n",
       "      <th>208</th>\n",
       "      <td>도무지 끝날 것 같지 않던 겨울이 어김없이 물러나고 있습니다. 드디어 매화향이 그윽...</td>\n",
       "      <td>1.5K</td>\n",
       "      <td>223</td>\n",
       "      <td>106</td>\n",
       "      <td>2021-3-4</td>\n",
       "    </tr>\n",
       "    <tr>\n",
       "      <th>209</th>\n",
       "      <td>\"문재인정권, 나라를 어디까지 망가뜨리려는가?\"\\n- 공수처법 일방처리는 대한민국 ...</td>\n",
       "      <td>2.7K</td>\n",
       "      <td>976</td>\n",
       "      <td>354</td>\n",
       "      <td>2020-12-10</td>\n",
       "    </tr>\n",
       "  </tbody>\n",
       "</table>\n",
       "<p>210 rows × 5 columns</p>\n",
       "</div>"
      ],
      "text/plain": [
       "                                              sentence like_count  \\\n",
       "0                                         No post text         96   \n",
       "1    <故조용기 목사님을 추모합니다>\\n주님의 종이 하나님의 부름을 받으셨습니다. 이 땅...        826   \n",
       "2    <‘깜놀 10억 벤처창업 배틀’로 스타트업 강국을 실현하겠습니다>\\n오늘 판교 테크...        479   \n",
       "3    <‘깜놀 10억 벤처창업 배틀’로 스타트업 강국을 실현하겠습니다>\\n오늘 판교밸리에...        465   \n",
       "4    <이래도 되는 겁니까?>\\n서울시가 10년간 1조 가까운 시민혈세를 시민단체에게 비...       1.1K   \n",
       "..                                                 ...        ...   \n",
       "205  백의종군 첫 행선지로 부산을 찾았습니다. \\n'국민 속으로'는 제가 <민생대장정> ...        985   \n",
       "206  ‘야만의 정치’를 끝내야 합니다.\\n ‘개와 늑대의 시간’은 지났습니다. 우리는 그...       1.5K   \n",
       "207  ‘적반하장’도 유분수다. \\n여권의 '정치검사 윤석열' 운운은 정말 뻔뻔한 주장이다...       1.6K   \n",
       "208  도무지 끝날 것 같지 않던 겨울이 어김없이 물러나고 있습니다. 드디어 매화향이 그윽...       1.5K   \n",
       "209  \"문재인정권, 나라를 어디까지 망가뜨리려는가?\"\\n- 공수처법 일방처리는 대한민국 ...       2.7K   \n",
       "\n",
       "     comment_count  share_count        date  \n",
       "0                9            7  2021-08-02  \n",
       "1               70           22  2021-09-15  \n",
       "2               55           25   2021-9-14  \n",
       "3               72           31   2021-9-14  \n",
       "4              112           79   2021-9-14  \n",
       "..             ...          ...         ...  \n",
       "205            339           67   2021-3-11  \n",
       "206            363          107   2021-3-10  \n",
       "207            346           94    2021-3-7  \n",
       "208            223          106    2021-3-4  \n",
       "209            976          354  2020-12-10  \n",
       "\n",
       "[210 rows x 5 columns]"
      ]
     },
     "execution_count": 31,
     "metadata": {},
     "output_type": "execute_result"
    }
   ],
   "source": [
    "df8 = pd.read_csv('data/황교안_.csv')\n",
    "df8 = df8.iloc[:10000,:]\n",
    "df8 = df8.rename(columns={\"post\": \"sentence\"})\n",
    "df8"
   ]
  },
  {
   "cell_type": "code",
   "execution_count": null,
   "id": "66739a5b",
   "metadata": {},
   "outputs": [],
   "source": []
  },
  {
   "cell_type": "code",
   "execution_count": 32,
   "id": "b7d0148e",
   "metadata": {},
   "outputs": [],
   "source": [
    "### 리스트에 데이터 넣어주기\n",
    "data=[df1,df2,df3,df4,df5,df6,df7,df8]\n",
    "num=8"
   ]
  },
  {
   "cell_type": "code",
   "execution_count": 33,
   "id": "db8020b1",
   "metadata": {},
   "outputs": [],
   "source": [
    "###감성사전      (KNU 한국어 감성사전)   https://github.com/park1200656/KnuSentiLex\n",
    "sent_dic = pd.read_csv('data/SentiWord_Dict.txt',sep = '\\t',header=None)\n",
    "sent_dic.iloc[14850,0]='갈등'\n",
    "\n",
    "pos_dic = sent_dic[sent_dic[1]>0]\n",
    "neg_dic = sent_dic[sent_dic[1]<0]\n",
    "neu_dic = sent_dic[sent_dic[1]==0]"
   ]
  },
  {
   "cell_type": "markdown",
   "id": "2223c521",
   "metadata": {},
   "source": [
    "### 2. 텍스트 전처리 "
   ]
  },
  {
   "cell_type": "code",
   "execution_count": 34,
   "id": "64a536f3",
   "metadata": {},
   "outputs": [],
   "source": [
    "okt = konlpy.tag.Okt()\n",
    "\n",
    "def text_preprocess(x):\n",
    "    text=[]\n",
    "    a = re.sub('[^가-힣0-9a-zA-Z\\\\s]', '',x)\n",
    "    for j in a.split():\n",
    "        text.append(j)\n",
    "    return ' '.join(text)\n",
    "\n",
    "def tokenize(x):\n",
    "    text = []\n",
    "    tokens = okt.pos(x)\n",
    "    for token in tokens :\n",
    "        if token[1] == 'Adjective' or token[1]=='Adverb' or token[1] == 'Determiner' or token[1] == 'Noun' or token[1] == 'Verb' or 'Unknown':\n",
    "            text.append(token[0])\n",
    "    return text"
   ]
  },
  {
   "cell_type": "code",
   "execution_count": 35,
   "id": "8f29b5b0",
   "metadata": {},
   "outputs": [
    {
     "name": "stderr",
     "output_type": "stream",
     "text": [
      "100%|████████████████████████████████████████████████████████████████████████████████| 614/614 [00:13<00:00, 46.26it/s]\n",
      "100%|████████████████████████████████████████████████████████████████████████████████| 709/709 [00:21<00:00, 33.74it/s]\n",
      "100%|████████████████████████████████████████████████████████████████████████████████| 324/324 [00:06<00:00, 53.45it/s]\n",
      "100%|████████████████████████████████████████████████████████████████████████████████| 401/401 [00:08<00:00, 49.88it/s]\n",
      "100%|████████████████████████████████████████████████████████████████████████████████| 434/434 [00:10<00:00, 41.81it/s]\n",
      "100%|██████████████████████████████████████████████████████████████████████████████████| 85/85 [00:01<00:00, 70.98it/s]\n",
      "100%|████████████████████████████████████████████████████████████████████████████████| 462/462 [00:06<00:00, 75.23it/s]\n",
      "100%|████████████████████████████████████████████████████████████████████████████████| 210/210 [00:05<00:00, 41.84it/s]\n"
     ]
    }
   ],
   "source": [
    "tqdm.pandas()\n",
    "for df in data:\n",
    "    df['comment'] = df['sentence'].apply(lambda x : text_preprocess(x))\n",
    "    df['comment'] = df['comment'].progress_apply(lambda x: tokenize(x))"
   ]
  },
  {
   "cell_type": "markdown",
   "id": "4225f5e8",
   "metadata": {},
   "source": [
    "### 3. 단어별 감성지수 측정 및 감성사전 업데이트"
   ]
  },
  {
   "cell_type": "code",
   "execution_count": 36,
   "id": "9796b661",
   "metadata": {},
   "outputs": [],
   "source": [
    "def make_sent_dict(x) :\n",
    "    pos=[]\n",
    "    neg=[]\n",
    "    tmp={}\n",
    "    \n",
    "    for sentence in tqdm(x):\n",
    "        for word in sentence :\n",
    "            target = sent_dic[sent_dic[0]==word]\n",
    "            if len(target)==1: # 기존에 있는 단어라면 그대로 사용\n",
    "                score = float(target[1])\n",
    "                if score > 0:\n",
    "                    pos.append(word)\n",
    "                elif score < 0:\n",
    "                    neg.append(word)                \n",
    "            tmp[word] = {'W':0,'WP':0,'WN':0} # 감성사전 구성\n",
    "    pos = list(set(pos))\n",
    "    neg = list(set(neg))\n",
    "    \n",
    "    for sentence in tqdm(x):\n",
    "        for word in sentence :\n",
    "            tmp[word]['W'] += 1 # 빈도 수\n",
    "            for po in pos :\n",
    "                if po in sentence:\n",
    "                    tmp[word]['WP'] += 1 # 긍정단어과 같은 문장 내 단어일 때\n",
    "                    break\n",
    "            for ne in neg:\n",
    "                if ne in sentence:\n",
    "                    tmp[word]['WN'] += 1 # 부정단어와 같은 문장내 단어일 때\n",
    "                    break\n",
    "    return pos, neg, pd.DataFrame(tmp)"
   ]
  },
  {
   "cell_type": "code",
   "execution_count": 37,
   "id": "f69bebea",
   "metadata": {},
   "outputs": [],
   "source": [
    "def make_score_dict(d,p,n):\n",
    "    N=sum(d.iloc[0,::])\n",
    "    pos_cnt=sum(d.loc[::,p].iloc[0,::])\n",
    "    neg_cnt=sum(d.loc[::,n].iloc[0,::])\n",
    "    \n",
    "    trans =d.T\n",
    "    trans['neg_cnt']=neg_cnt\n",
    "    trans['pos_cnt']=pos_cnt\n",
    "    trans['N']=N\n",
    "\n",
    "    trans['MI_P']=np.log2(trans['WP']*trans['N']/trans['W']*trans['pos_cnt'])\n",
    "    trans['MI_N']=np.log2(trans['WN']*trans['N']/trans['W']*trans['neg_cnt'])\n",
    "    trans['SO_MI']=trans['MI_P'] - trans['MI_N']\n",
    "    \n",
    "    trans = trans.replace([np.inf, -np.inf], np.nan).dropna(axis=0)\n",
    "    trans = trans.sort_values(by=['SO_MI'],ascending=False)\n",
    "    return trans"
   ]
  },
  {
   "cell_type": "code",
   "execution_count": 38,
   "id": "b282c5d1",
   "metadata": {},
   "outputs": [],
   "source": [
    "def update_dict(d, add_dict):\n",
    "    add_Dic = {0:[],1:[]}\n",
    "    for i in d.T.items():\n",
    "        if i[0] not in list(sent_dic[0]):\n",
    "            if len(i[0]) > 1:\n",
    "                add_Dic[0].append(i[0])\n",
    "                add_Dic[1].append(i[1]['SO_MI'])\n",
    "            \n",
    "    add_Dic=pd.DataFrame(add_Dic)\n",
    "    new=pd.merge(add_dict,add_Dic,'outer')\n",
    "    return new"
   ]
  },
  {
   "cell_type": "code",
   "execution_count": 39,
   "id": "c86c93d0",
   "metadata": {},
   "outputs": [
    {
     "name": "stderr",
     "output_type": "stream",
     "text": [
      "100%|████████████████████████████████████████████████████████████████████████████████| 614/614 [01:27<00:00,  7.02it/s]\n",
      "100%|████████████████████████████████████████████████████████████████████████████████| 614/614 [00:35<00:00, 17.40it/s]\n",
      "100%|████████████████████████████████████████████████████████████████████████████████| 709/709 [03:23<00:00,  3.49it/s]\n",
      "100%|████████████████████████████████████████████████████████████████████████████████| 709/709 [02:16<00:00,  5.20it/s]\n",
      "100%|████████████████████████████████████████████████████████████████████████████████| 324/324 [00:52<00:00,  6.18it/s]\n",
      "100%|████████████████████████████████████████████████████████████████████████████████| 324/324 [00:17<00:00, 18.22it/s]\n",
      "100%|████████████████████████████████████████████████████████████████████████████████| 401/401 [01:26<00:00,  4.61it/s]\n",
      "100%|████████████████████████████████████████████████████████████████████████████████| 401/401 [00:56<00:00,  7.16it/s]\n",
      "100%|████████████████████████████████████████████████████████████████████████████████| 434/434 [01:28<00:00,  4.89it/s]\n",
      "100%|████████████████████████████████████████████████████████████████████████████████| 434/434 [00:52<00:00,  8.26it/s]\n",
      "100%|██████████████████████████████████████████████████████████████████████████████████| 85/85 [00:12<00:00,  6.71it/s]\n",
      "100%|██████████████████████████████████████████████████████████████████████████████████| 85/85 [00:06<00:00, 13.50it/s]\n",
      "100%|████████████████████████████████████████████████████████████████████████████████| 462/462 [00:50<00:00,  9.08it/s]\n",
      "100%|████████████████████████████████████████████████████████████████████████████████| 462/462 [00:19<00:00, 23.72it/s]\n",
      "100%|████████████████████████████████████████████████████████████████████████████████| 210/210 [00:40<00:00,  5.12it/s]\n",
      "100%|████████████████████████████████████████████████████████████████████████████████| 210/210 [00:15<00:00, 13.94it/s]\n"
     ]
    },
    {
     "data": {
      "text/html": [
       "<div>\n",
       "<style scoped>\n",
       "    .dataframe tbody tr th:only-of-type {\n",
       "        vertical-align: middle;\n",
       "    }\n",
       "\n",
       "    .dataframe tbody tr th {\n",
       "        vertical-align: top;\n",
       "    }\n",
       "\n",
       "    .dataframe thead th {\n",
       "        text-align: right;\n",
       "    }\n",
       "</style>\n",
       "<table border=\"1\" class=\"dataframe\">\n",
       "  <thead>\n",
       "    <tr style=\"text-align: right;\">\n",
       "      <th></th>\n",
       "      <th>0</th>\n",
       "      <th>1</th>\n",
       "    </tr>\n",
       "  </thead>\n",
       "  <tbody>\n",
       "    <tr>\n",
       "      <th>0</th>\n",
       "      <td>(-;</td>\n",
       "      <td>1.00000</td>\n",
       "    </tr>\n",
       "    <tr>\n",
       "      <th>1</th>\n",
       "      <td>(;_;)</td>\n",
       "      <td>-1.00000</td>\n",
       "    </tr>\n",
       "    <tr>\n",
       "      <th>2</th>\n",
       "      <td>(^^)</td>\n",
       "      <td>1.00000</td>\n",
       "    </tr>\n",
       "    <tr>\n",
       "      <th>3</th>\n",
       "      <td>(^-^)</td>\n",
       "      <td>1.00000</td>\n",
       "    </tr>\n",
       "    <tr>\n",
       "      <th>4</th>\n",
       "      <td>(^^*</td>\n",
       "      <td>1.00000</td>\n",
       "    </tr>\n",
       "    <tr>\n",
       "      <th>...</th>\n",
       "      <td>...</td>\n",
       "      <td>...</td>\n",
       "    </tr>\n",
       "    <tr>\n",
       "      <th>89349</th>\n",
       "      <td>광복회</td>\n",
       "      <td>-1.18482</td>\n",
       "    </tr>\n",
       "    <tr>\n",
       "      <th>89350</th>\n",
       "      <td>김영삼</td>\n",
       "      <td>-1.18482</td>\n",
       "    </tr>\n",
       "    <tr>\n",
       "      <th>89351</th>\n",
       "      <td>예산</td>\n",
       "      <td>-1.36611</td>\n",
       "    </tr>\n",
       "    <tr>\n",
       "      <th>89352</th>\n",
       "      <td>했는데</td>\n",
       "      <td>-1.78558</td>\n",
       "    </tr>\n",
       "    <tr>\n",
       "      <th>89353</th>\n",
       "      <td>구속</td>\n",
       "      <td>-2.00000</td>\n",
       "    </tr>\n",
       "  </tbody>\n",
       "</table>\n",
       "<p>89354 rows × 2 columns</p>\n",
       "</div>"
      ],
      "text/plain": [
       "           0        1\n",
       "0        (-;  1.00000\n",
       "1      (;_;) -1.00000\n",
       "2       (^^)  1.00000\n",
       "3      (^-^)  1.00000\n",
       "4       (^^*  1.00000\n",
       "...      ...      ...\n",
       "89349    광복회 -1.18482\n",
       "89350    김영삼 -1.18482\n",
       "89351     예산 -1.36611\n",
       "89352    했는데 -1.78558\n",
       "89353     구속 -2.00000\n",
       "\n",
       "[89354 rows x 2 columns]"
      ]
     },
     "execution_count": 39,
     "metadata": {},
     "output_type": "execute_result"
    }
   ],
   "source": [
    "add_dict=sent_dic.copy()\n",
    "for df in data:\n",
    "    pos=[]\n",
    "    neg=[]\n",
    "    new_dict=pd.DataFrame()\n",
    "    t_dict=pd.DataFrame()\n",
    "    \n",
    "    pos, neg, new_dict = make_sent_dict(df['comment'].values)\n",
    "    t_dict = make_score_dict(new_dict,pos,neg)\n",
    "    t_dict['SO_MI'] = scaler.fit_transform(t_dict['SO_MI'].values.reshape(-1,1))\n",
    "    add_dict=update_dict(t_dict, add_dict)\n",
    "add_dict"
   ]
  },
  {
   "cell_type": "markdown",
   "id": "2cb80c13",
   "metadata": {},
   "source": [
    "### 4. 문장 감성분석"
   ]
  },
  {
   "cell_type": "code",
   "execution_count": 40,
   "id": "1e2f702e",
   "metadata": {},
   "outputs": [],
   "source": [
    "def get_cnt(x):\n",
    "    cnt = 0\n",
    "    for word in list(set(x)):\n",
    "        target = add_dict[add_dict[0]==word]\n",
    "        if len(target)==1:\n",
    "            cnt += float(target[1])\n",
    "    return cnt\n",
    "\n",
    "def get_ratio(x):\n",
    "    score = x['score']\n",
    "    length = np.log10(len(x['comment']))+1\n",
    "    try:\n",
    "        ratio= round(score/length,2)\n",
    "    except:\n",
    "        ratio = 0\n",
    "    return ratio"
   ]
  },
  {
   "cell_type": "code",
   "execution_count": 41,
   "id": "fdd3a84a",
   "metadata": {},
   "outputs": [
    {
     "name": "stderr",
     "output_type": "stream",
     "text": [
      "100%|████████████████████████████████████████████████████████████████████████████████| 614/614 [09:13<00:00,  1.11it/s]\n",
      "100%|████████████████████████████████████████████████████████████████████████████████| 709/709 [18:22<00:00,  1.55s/it]\n",
      "100%|████████████████████████████████████████████████████████████████████████████████| 324/324 [04:50<00:00,  1.11it/s]\n",
      "100%|████████████████████████████████████████████████████████████████████████████████| 401/401 [07:33<00:00,  1.13s/it]\n",
      "100%|████████████████████████████████████████████████████████████████████████████████| 434/434 [06:50<00:00,  1.06it/s]\n",
      "100%|██████████████████████████████████████████████████████████████████████████████████| 85/85 [00:53<00:00,  1.59it/s]\n",
      "100%|████████████████████████████████████████████████████████████████████████████████| 462/462 [04:11<00:00,  1.84it/s]\n",
      "100%|████████████████████████████████████████████████████████████████████████████████| 210/210 [02:53<00:00,  1.21it/s]\n"
     ]
    }
   ],
   "source": [
    "tqdm.pandas()\n",
    "for df in data:\n",
    "    df['score']= df['comment'].progress_apply(lambda x : get_cnt(x))\n",
    "    df['ratio'] = df.apply(lambda x: get_ratio(x), axis = 1)"
   ]
  },
  {
   "cell_type": "markdown",
   "id": "ef7c2aa7",
   "metadata": {},
   "source": [
    "### 날짜 데이터 변환"
   ]
  },
  {
   "cell_type": "code",
   "execution_count": 45,
   "id": "47243427",
   "metadata": {},
   "outputs": [],
   "source": [
    "import datetime as dt"
   ]
  },
  {
   "cell_type": "code",
   "execution_count": 88,
   "id": "62ecd09a",
   "metadata": {},
   "outputs": [],
   "source": [
    "for df in data:\n",
    "    for i in range(len(df)):\n",
    "        tmp = df['date'][i]\n",
    "        if type(tmp) == str:\n",
    "            try:\n",
    "                year= int(tmp.split('-')[0])\n",
    "                month= int(tmp.split('-')[1])\n",
    "                day= int(tmp.split('-')[2])\n",
    "                hour= 0\n",
    "                df['date'][i] = dt.datetime(year, month, day, hour)\n",
    "            except (ValueError):\n",
    "                df['date'][i] = df['date'][i-1]\n",
    "        else : \n",
    "            pass"
   ]
  },
  {
   "cell_type": "markdown",
   "id": "fce3f2d3",
   "metadata": {},
   "source": [
    "### 5. 키워드별 보기"
   ]
  },
  {
   "cell_type": "code",
   "execution_count": 134,
   "id": "4dcbe4ca",
   "metadata": {},
   "outputs": [],
   "source": [
    "word_list=['백신','부동산','북한','재난지원금','국민지원금','청년','문재인','윤석열','이준석','이재명','복지','접종','노조','기업']\n",
    "for word in word_list:\n",
    "    for df in data:\n",
    "        for i in range(len(df)):\n",
    "            tmp=df.loc[i,'sentence']\n",
    "            flag=False\n",
    "            if word in tmp:\n",
    "                flag=True\n",
    "            if flag:\n",
    "                df.loc[i,str(word)]=True"
   ]
  },
  {
   "cell_type": "markdown",
   "id": "3d14b68d",
   "metadata": {},
   "source": [
    "### 6. 시각화   \n",
    "##### 1.이낙연   2.이재명   3. 정세균   4.추미애   5.유승민   6.윤석열   7.홍준표  8.황교안   순서   \n"
   ]
  },
  {
   "cell_type": "code",
   "execution_count": 90,
   "id": "9ca4dada",
   "metadata": {},
   "outputs": [
    {
     "data": {
      "text/plain": [
       "Text(0.5, 1.0, '백신')"
      ]
     },
     "execution_count": 90,
     "metadata": {},
     "output_type": "execute_result"
    },
    {
     "data": {
      "image/png": "[encoded data removed]",
      "text/plain": [
       "<Figure size 800x500 with 1 Axes>"
      ]
     },
     "metadata": {},
     "output_type": "display_data"
    }
   ],
   "source": [
    "word=\"백신\"\n",
    "plt.style.use('default')\n",
    "plt.rcParams['figure.figsize'] = (8, 5)\n",
    "plt.rcParams['font.size'] = 12\n",
    "plt.rcParams['font.family'] ='Malgun Gothic'\n",
    "plt.rcParams['axes.unicode_minus'] =False\n",
    "\n",
    "plt.boxplot([df1[df1[word]==True]['ratio'].dropna(),\n",
    "             df2[df2[word]==True]['ratio'].dropna(),\n",
    "             df3[df3[word]==True]['ratio'].dropna(),\n",
    "             df4[df4[word]==True]['ratio'].dropna(),\n",
    "             df5[df5[word]==True]['ratio'].dropna(),\n",
    "             df6[df6[word]==True]['ratio'].dropna(),\n",
    "             df7[df7[word]==True]['ratio'].dropna(),\n",
    "             df8[df8[word]==True]['ratio'].dropna()\n",
    "             ]);\n",
    "plt.title(word)"
   ]
  },
  {
   "cell_type": "code",
   "execution_count": 91,
   "id": "df69b07a",
   "metadata": {},
   "outputs": [
    {
     "data": {
      "text/plain": [
       "Text(0.5, 1.0, '부동산')"
      ]
     },
     "execution_count": 91,
     "metadata": {},
     "output_type": "execute_result"
    },
    {
     "data": {
      "image/png": "[encoded data removed]",
      "text/plain": [
       "<Figure size 800x500 with 1 Axes>"
      ]
     },
     "metadata": {},
     "output_type": "display_data"
    }
   ],
   "source": [
    "word=\"부동산\"\n",
    "plt.style.use('default')\n",
    "plt.rcParams['figure.figsize'] = (8, 5)\n",
    "plt.rcParams['font.size'] = 12\n",
    "plt.rcParams['font.family'] ='Malgun Gothic'\n",
    "plt.rcParams['axes.unicode_minus'] =False\n",
    "\n",
    "plt.boxplot([df1[df1[word]==True]['ratio'].dropna(),\n",
    "             df2[df2[word]==True]['ratio'].dropna(),\n",
    "             df3[df3[word]==True]['ratio'].dropna(),\n",
    "             df4[df4[word]==True]['ratio'].dropna(),\n",
    "             df5[df5[word]==True]['ratio'].dropna(),\n",
    "             df6[df6[word]==True]['ratio'].dropna(),\n",
    "             df7[df7[word]==True]['ratio'].dropna(),\n",
    "             df8[df8[word]==True]['ratio'].dropna()\n",
    "             ]);\n",
    "plt.title(word)"
   ]
  },
  {
   "cell_type": "code",
   "execution_count": 92,
   "id": "6380af2a",
   "metadata": {},
   "outputs": [
    {
     "data": {
      "text/plain": [
       "Text(0.5, 1.0, '북한')"
      ]
     },
     "execution_count": 92,
     "metadata": {},
     "output_type": "execute_result"
    },
    {
     "data": {
      "image/png": "[encoded data removed]",
      "text/plain": [
       "<Figure size 800x500 with 1 Axes>"
      ]
     },
     "metadata": {},
     "output_type": "display_data"
    }
   ],
   "source": [
    "word=\"북한\"\n",
    "plt.style.use('default')\n",
    "plt.rcParams['figure.figsize'] = (8, 5)\n",
    "plt.rcParams['font.size'] = 12\n",
    "plt.rcParams['font.family'] ='Malgun Gothic'\n",
    "plt.rcParams['axes.unicode_minus'] =False\n",
    "\n",
    "plt.boxplot([df1[df1[word]==True]['ratio'].dropna(),\n",
    "             df2[df2[word]==True]['ratio'].dropna(),\n",
    "             df3[df3[word]==True]['ratio'].dropna(),\n",
    "             df4[df4[word]==True]['ratio'].dropna(),\n",
    "             df5[df5[word]==True]['ratio'].dropna(),\n",
    "             df6[df6[word]==True]['ratio'].dropna(),\n",
    "             df7[df7[word]==True]['ratio'].dropna(),\n",
    "             df8[df8[word]==True]['ratio'].dropna()\n",
    "             ]);\n",
    "plt.title(word)"
   ]
  },
  {
   "cell_type": "code",
   "execution_count": 93,
   "id": "dd69c909",
   "metadata": {},
   "outputs": [
    {
     "data": {
      "text/plain": [
       "Text(0.5, 1.0, '재난지원금')"
      ]
     },
     "execution_count": 93,
     "metadata": {},
     "output_type": "execute_result"
    },
    {
     "data": {
      "image/png": "[encoded data removed]",
      "text/plain": [
       "<Figure size 800x500 with 1 Axes>"
      ]
     },
     "metadata": {},
     "output_type": "display_data"
    }
   ],
   "source": [
    "word=\"재난지원금\"\n",
    "plt.style.use('default')\n",
    "plt.rcParams['figure.figsize'] = (8, 5)\n",
    "plt.rcParams['font.size'] = 12\n",
    "plt.rcParams['font.family'] ='Malgun Gothic'\n",
    "plt.rcParams['axes.unicode_minus'] =False\n",
    "\n",
    "plt.boxplot([df1[df1[word]==True]['ratio'].dropna(),\n",
    "             df2[df2[word]==True]['ratio'].dropna(),\n",
    "             df3[df3[word]==True]['ratio'].dropna(),\n",
    "             df4[df4[word]==True]['ratio'].dropna(),\n",
    "             df5[df5[word]==True]['ratio'].dropna(),\n",
    "             df6[df6[word]==True]['ratio'].dropna(),\n",
    "             df7[df7[word]==True]['ratio'].dropna(),\n",
    "             df8[df8[word]==True]['ratio'].dropna()\n",
    "             ]);\n",
    "plt.title(word)"
   ]
  },
  {
   "cell_type": "code",
   "execution_count": 94,
   "id": "008e840b",
   "metadata": {},
   "outputs": [
    {
     "data": {
      "text/plain": [
       "Text(0.5, 1.0, '청년')"
      ]
     },
     "execution_count": 94,
     "metadata": {},
     "output_type": "execute_result"
    },
    {
     "data": {
      "image/png": "[encoded data removed]",
      "text/plain": [
       "<Figure size 800x500 with 1 Axes>"
      ]
     },
     "metadata": {},
     "output_type": "display_data"
    }
   ],
   "source": [
    "word=\"청년\"\n",
    "plt.style.use('default')\n",
    "plt.rcParams['figure.figsize'] = (8, 5)\n",
    "plt.rcParams['font.size'] = 12\n",
    "plt.rcParams['font.family'] ='Malgun Gothic'\n",
    "plt.rcParams['axes.unicode_minus'] =False\n",
    "\n",
    "plt.boxplot([df1[df1[word]==True]['ratio'].dropna(),\n",
    "             df2[df2[word]==True]['ratio'].dropna(),\n",
    "             df3[df3[word]==True]['ratio'].dropna(),\n",
    "             df4[df4[word]==True]['ratio'].dropna(),\n",
    "             df5[df5[word]==True]['ratio'].dropna(),\n",
    "             df6[df6[word]==True]['ratio'].dropna(),\n",
    "             df7[df7[word]==True]['ratio'].dropna(),\n",
    "             df8[df8[word]==True]['ratio'].dropna()\n",
    "             ]);\n",
    "plt.title(word)"
   ]
  },
  {
   "cell_type": "code",
   "execution_count": 95,
   "id": "cf8a9e1f",
   "metadata": {},
   "outputs": [
    {
     "data": {
      "text/plain": [
       "Text(0.5, 1.0, '문재인')"
      ]
     },
     "execution_count": 95,
     "metadata": {},
     "output_type": "execute_result"
    },
    {
     "data": {
      "image/png": "[encoded data removed]",
      "text/plain": [
       "<Figure size 800x500 with 1 Axes>"
      ]
     },
     "metadata": {},
     "output_type": "display_data"
    }
   ],
   "source": [
    "word=\"문재인\"\n",
    "plt.style.use('default')\n",
    "plt.rcParams['figure.figsize'] = (8, 5)\n",
    "plt.rcParams['font.size'] = 12\n",
    "plt.rcParams['font.family'] ='Malgun Gothic'\n",
    "plt.rcParams['axes.unicode_minus'] =False\n",
    "\n",
    "plt.boxplot([df1[df1[word]==True]['ratio'].dropna(),\n",
    "             df2[df2[word]==True]['ratio'].dropna(),\n",
    "             df3[df3[word]==True]['ratio'].dropna(),\n",
    "             df4[df4[word]==True]['ratio'].dropna(),\n",
    "             df5[df5[word]==True]['ratio'].dropna(),\n",
    "             df6[df6[word]==True]['ratio'].dropna(),\n",
    "             df7[df7[word]==True]['ratio'].dropna(),\n",
    "             df8[df8[word]==True]['ratio'].dropna()\n",
    "             ]);\n",
    "plt.title(word)"
   ]
  },
  {
   "cell_type": "code",
   "execution_count": 96,
   "id": "3bd4b18f",
   "metadata": {},
   "outputs": [
    {
     "data": {
      "text/plain": [
       "Text(0.5, 1.0, '윤석열')"
      ]
     },
     "execution_count": 96,
     "metadata": {},
     "output_type": "execute_result"
    },
    {
     "data": {
      "image/png": "[encoded data removed]",
      "text/plain": [
       "<Figure size 800x500 with 1 Axes>"
      ]
     },
     "metadata": {},
     "output_type": "display_data"
    }
   ],
   "source": [
    "word=\"윤석열\"\n",
    "plt.style.use('default')\n",
    "plt.rcParams['figure.figsize'] = (8, 5)\n",
    "plt.rcParams['font.size'] = 12\n",
    "plt.rcParams['font.family'] ='Malgun Gothic'\n",
    "plt.rcParams['axes.unicode_minus'] =False\n",
    "\n",
    "plt.boxplot([df1[df1[word]==True]['ratio'].dropna(),\n",
    "             df2[df2[word]==True]['ratio'].dropna(),\n",
    "             df3[df3[word]==True]['ratio'].dropna(),\n",
    "             df4[df4[word]==True]['ratio'].dropna(),\n",
    "             df5[df5[word]==True]['ratio'].dropna(),\n",
    "             #df6[df6[word]==True]['ratio'].dropna(),\n",
    "             df7[df7[word]==True]['ratio'].dropna(),\n",
    "             df8[df8[word]==True]['ratio'].dropna()\n",
    "             ]);\n",
    "plt.title(word)"
   ]
  },
  {
   "cell_type": "code",
   "execution_count": 97,
   "id": "02b06433",
   "metadata": {},
   "outputs": [
    {
     "data": {
      "text/plain": [
       "Text(0.5, 1.0, '이준석')"
      ]
     },
     "execution_count": 97,
     "metadata": {},
     "output_type": "execute_result"
    },
    {
     "data": {
      "image/png": "[encoded data removed]",
      "text/plain": [
       "<Figure size 800x500 with 1 Axes>"
      ]
     },
     "metadata": {},
     "output_type": "display_data"
    }
   ],
   "source": [
    "word=\"이준석\"\n",
    "plt.style.use('default')\n",
    "plt.rcParams['figure.figsize'] = (8, 5)\n",
    "plt.rcParams['font.size'] = 12\n",
    "plt.rcParams['font.family'] ='Malgun Gothic'\n",
    "plt.rcParams['axes.unicode_minus'] =False\n",
    "\n",
    "plt.boxplot([df1[df1[word]==True]['ratio'].dropna(),\n",
    "             df2[df2[word]==True]['ratio'].dropna(),\n",
    "             df3[df3[word]==True]['ratio'].dropna(),\n",
    "             df4[df4[word]==True]['ratio'].dropna(),\n",
    "             df5[df5[word]==True]['ratio'].dropna(),\n",
    "             #df6[df6[word]==True]['ratio'].dropna(),\n",
    "             df7[df7[word]==True]['ratio'].dropna(),\n",
    "             df8[df8[word]==True]['ratio'].dropna()\n",
    "             ]);\n",
    "plt.title(word)"
   ]
  },
  {
   "cell_type": "code",
   "execution_count": 98,
   "id": "cb596a03",
   "metadata": {},
   "outputs": [
    {
     "data": {
      "text/plain": [
       "Text(0.5, 1.0, '이재명')"
      ]
     },
     "execution_count": 98,
     "metadata": {},
     "output_type": "execute_result"
    },
    {
     "data": {
      "image/png": "[encoded data removed]",
      "text/plain": [
       "<Figure size 800x500 with 1 Axes>"
      ]
     },
     "metadata": {},
     "output_type": "display_data"
    }
   ],
   "source": [
    "word=\"이재명\"\n",
    "plt.style.use('default')\n",
    "plt.rcParams['figure.figsize'] = (8, 5)\n",
    "plt.rcParams['font.size'] = 12\n",
    "plt.rcParams['font.family'] ='Malgun Gothic'\n",
    "plt.rcParams['axes.unicode_minus'] =False\n",
    "\n",
    "plt.boxplot([df1[df1[word]==True]['ratio'].dropna(),\n",
    "             df2[df2[word]==True]['ratio'].dropna(),\n",
    "             df3[df3[word]==True]['ratio'].dropna(),\n",
    "             df4[df4[word]==True]['ratio'].dropna(),\n",
    "             df5[df5[word]==True]['ratio'].dropna(),\n",
    "             df6[df6[word]==True]['ratio'].dropna(),\n",
    "             df7[df7[word]==True]['ratio'].dropna(),\n",
    "             df8[df8[word]==True]['ratio'].dropna()\n",
    "             ]);\n",
    "plt.title(word)"
   ]
  },
  {
   "cell_type": "code",
   "execution_count": 99,
   "id": "9d6ad5d4",
   "metadata": {},
   "outputs": [
    {
     "data": {
      "text/plain": [
       "Text(0.5, 1.0, '복지')"
      ]
     },
     "execution_count": 99,
     "metadata": {},
     "output_type": "execute_result"
    },
    {
     "data": {
      "image/png": "[encoded data removed]",
      "text/plain": [
       "<Figure size 800x500 with 1 Axes>"
      ]
     },
     "metadata": {},
     "output_type": "display_data"
    }
   ],
   "source": [
    "word=\"복지\"\n",
    "plt.style.use('default')\n",
    "plt.rcParams['figure.figsize'] = (8, 5)\n",
    "plt.rcParams['font.size'] = 12\n",
    "plt.rcParams['font.family'] ='Malgun Gothic'\n",
    "plt.rcParams['axes.unicode_minus'] =False\n",
    "\n",
    "plt.boxplot([df1[df1[word]==True]['ratio'].dropna(),\n",
    "             df2[df2[word]==True]['ratio'].dropna(),\n",
    "             df3[df3[word]==True]['ratio'].dropna(),\n",
    "             df4[df4[word]==True]['ratio'].dropna(),\n",
    "             df5[df5[word]==True]['ratio'].dropna(),\n",
    "             df6[df6[word]==True]['ratio'].dropna(),\n",
    "             df7[df7[word]==True]['ratio'].dropna(),\n",
    "             df8[df8[word]==True]['ratio'].dropna()\n",
    "             ]);\n",
    "plt.title(word)"
   ]
  },
  {
   "cell_type": "code",
   "execution_count": 100,
   "id": "78da5b36",
   "metadata": {},
   "outputs": [
    {
     "data": {
      "text/plain": [
       "Text(0.5, 1.0, '접종')"
      ]
     },
     "execution_count": 100,
     "metadata": {},
     "output_type": "execute_result"
    },
    {
     "data": {
      "image/png": "[encoded data removed]",
      "text/plain": [
       "<Figure size 800x500 with 1 Axes>"
      ]
     },
     "metadata": {},
     "output_type": "display_data"
    }
   ],
   "source": [
    "word=\"접종\"\n",
    "plt.style.use('default')\n",
    "plt.rcParams['figure.figsize'] = (8, 5)\n",
    "plt.rcParams['font.size'] = 12\n",
    "plt.rcParams['font.family'] ='Malgun Gothic'\n",
    "plt.rcParams['axes.unicode_minus'] =False\n",
    "\n",
    "plt.boxplot([df1[df1[word]==True]['ratio'].dropna(),\n",
    "             df2[df2[word]==True]['ratio'].dropna(),\n",
    "             df3[df3[word]==True]['ratio'].dropna(),\n",
    "             df4[df4[word]==True]['ratio'].dropna(),\n",
    "             df5[df5[word]==True]['ratio'].dropna(),\n",
    "             df6[df6[word]==True]['ratio'].dropna(),\n",
    "             df7[df7[word]==True]['ratio'].dropna(),\n",
    "             df8[df8[word]==True]['ratio'].dropna()\n",
    "             ]);\n",
    "plt.title(word)"
   ]
  },
  {
   "cell_type": "code",
   "execution_count": 101,
   "id": "189b2e2c",
   "metadata": {},
   "outputs": [
    {
     "data": {
      "text/plain": [
       "Text(0.5, 1.0, '노조')"
      ]
     },
     "execution_count": 101,
     "metadata": {},
     "output_type": "execute_result"
    },
    {
     "data": {
      "image/png": "[encoded data removed]",
      "text/plain": [
       "<Figure size 800x500 with 1 Axes>"
      ]
     },
     "metadata": {},
     "output_type": "display_data"
    }
   ],
   "source": [
    "word=\"노조\"\n",
    "plt.style.use('default')\n",
    "plt.rcParams['figure.figsize'] = (8, 5)\n",
    "plt.rcParams['font.size'] = 12\n",
    "plt.rcParams['font.family'] ='Malgun Gothic'\n",
    "plt.rcParams['axes.unicode_minus'] =False\n",
    "\n",
    "plt.boxplot([df1[df1[word]==True]['ratio'].dropna(),\n",
    "             df2[df2[word]==True]['ratio'].dropna(),\n",
    "             df3[df3[word]==True]['ratio'].dropna(),\n",
    "             #df4[df4[word]==True]['ratio'].dropna(),\n",
    "             df5[df5[word]==True]['ratio'].dropna(),\n",
    "             df6[df6[word]==True]['ratio'].dropna(),\n",
    "             df7[df7[word]==True]['ratio'].dropna(),\n",
    "             df8[df8[word]==True]['ratio'].dropna()\n",
    "             ]);\n",
    "plt.title(word)"
   ]
  },
  {
   "cell_type": "code",
   "execution_count": null,
   "id": "cbaa3ec7",
   "metadata": {},
   "outputs": [],
   "source": []
  },
  {
   "cell_type": "code",
   "execution_count": 104,
   "id": "faa5b838",
   "metadata": {},
   "outputs": [],
   "source": [
    "blue=[df1,df2,df3,df4]  #여당\n",
    "red=[df5,df6,df7,df8]   #야당"
   ]
  },
  {
   "cell_type": "code",
   "execution_count": 111,
   "id": "dafdbdbf",
   "metadata": {},
   "outputs": [
    {
     "data": {
      "image/png": "[encoded data removed]",
      "text/plain": [
       "<Figure size 800x500 with 1 Axes>"
      ]
     },
     "metadata": {},
     "output_type": "display_data"
    }
   ],
   "source": [
    "for df in blue:\n",
    "    plt.scatter(df[df['접종']==True]['date'],df[df['접종']==True]['score'], color='blue')\n",
    "for df in red:\n",
    "    plt.scatter(df[df['접종']==True]['date'],df[df['접종']==True]['score'], color='red')"
   ]
  },
  {
   "cell_type": "code",
   "execution_count": 112,
   "id": "07358521",
   "metadata": {},
   "outputs": [
    {
     "data": {
      "image/png": "[encoded data removed]",
      "text/plain": [
       "<Figure size 800x500 with 1 Axes>"
      ]
     },
     "metadata": {},
     "output_type": "display_data"
    }
   ],
   "source": [
    "for df in blue:\n",
    "    plt.scatter(df[df['북한']==True]['date'],df[df['북한']==True]['score'], color='blue')\n",
    "for df in red:\n",
    "    plt.scatter(df[df['북한']==True]['date'],df[df['북한']==True]['score'], color='red')"
   ]
  },
  {
   "cell_type": "code",
   "execution_count": 115,
   "id": "d40d3813",
   "metadata": {},
   "outputs": [
    {
     "data": {
      "image/png": "[encoded data removed]",
      "text/plain": [
       "<Figure size 800x500 with 1 Axes>"
      ]
     },
     "metadata": {},
     "output_type": "display_data"
    }
   ],
   "source": [
    "for df in blue:\n",
    "    plt.scatter(df[df['부동산']==True]['date'],df[df['부동산']==True]['score'], color='blue')\n",
    "for df in red:\n",
    "    plt.scatter(df[df['부동산']==True]['date'],df[df['부동산']==True]['score'], color='red')"
   ]
  },
  {
   "cell_type": "code",
   "execution_count": 119,
   "id": "f7c4970b",
   "metadata": {},
   "outputs": [
    {
     "data": {
      "image/png": "[encoded data removed]",
      "text/plain": [
       "<Figure size 800x500 with 1 Axes>"
      ]
     },
     "metadata": {},
     "output_type": "display_data"
    }
   ],
   "source": [
    "for df in red:\n",
    "    plt.scatter(df[df['문재인']==True]['date'],df[df['문재인']==True]['score'], color='red')\n",
    "for df in blue:\n",
    "    plt.scatter(df[df['문재인']==True]['date'],df[df['문재인']==True]['score'], color='blue')"
   ]
  },
  {
   "cell_type": "code",
   "execution_count": 122,
   "id": "b8b6efc7",
   "metadata": {},
   "outputs": [
    {
     "data": {
      "image/png": "[encoded data removed]",
      "text/plain": [
       "<Figure size 800x500 with 1 Axes>"
      ]
     },
     "metadata": {},
     "output_type": "display_data"
    }
   ],
   "source": [
    "for df in red:\n",
    "    plt.scatter(df[df['백신']==True]['date'],df[df['백신']==True]['score'], color='red')\n",
    "for df in blue:\n",
    "    plt.scatter(df[df['백신']==True]['date'],df[df['백신']==True]['score'], color='blue')"
   ]
  },
  {
   "cell_type": "code",
   "execution_count": 130,
   "id": "15509003",
   "metadata": {},
   "outputs": [
    {
     "data": {
      "image/png": "[encoded data removed]",
      "text/plain": [
       "<Figure size 800x500 with 1 Axes>"
      ]
     },
     "metadata": {},
     "output_type": "display_data"
    }
   ],
   "source": [
    "for df in red:\n",
    "    plt.scatter(df[df['재난지원금']==True]['date'],df[df['재난지원금']==True]['score'], color='red')\n",
    "for df in blue:\n",
    "    plt.scatter(df[df['재난지원금']==True]['date'],df[df['재난지원금']==True]['score'], color='blue')"
   ]
  },
  {
   "cell_type": "code",
   "execution_count": 131,
   "id": "f258be45",
   "metadata": {},
   "outputs": [
    {
     "data": {
      "image/png": "[encoded data removed]",
      "text/plain": [
       "<Figure size 800x500 with 1 Axes>"
      ]
     },
     "metadata": {},
     "output_type": "display_data"
    }
   ],
   "source": [
    "for df in red:\n",
    "    plt.scatter(df[df['복지']==True]['date'],df[df['복지']==True]['score'], color='red')\n",
    "for df in blue:\n",
    "    plt.scatter(df[df['복지']==True]['date'],df[df['복지']==True]['score'], color='blue')"
   ]
  },
  {
   "cell_type": "code",
   "execution_count": 137,
   "id": "d0cc7c04",
   "metadata": {},
   "outputs": [
    {
     "data": {
      "image/png": "[encoded data removed]",
      "text/plain": [
       "<Figure size 800x500 with 1 Axes>"
      ]
     },
     "metadata": {},
     "output_type": "display_data"
    }
   ],
   "source": [
    "for df in blue:\n",
    "    plt.scatter(df[df['기업']==True]['date'],df[df['기업']==True]['score'], color='blue')\n",
    "for df in red:\n",
    "    plt.scatter(df[df['기업']==True]['date'],df[df['기업']==True]['score'], color='red')\n"
   ]
  },
  {
   "cell_type": "code",
   "execution_count": null,
   "id": "ca2945c1",
   "metadata": {},
   "outputs": [],
   "source": []
  }
 ],
 "metadata": {
  "kernelspec": {
   "display_name": "Python 3",
   "language": "python",
   "name": "python3"
  },
  "language_info": {
   "codemirror_mode": {
    "name": "ipython",
    "version": 3
   },
   "file_extension": ".py",
   "mimetype": "text/x-python",
   "name": "python",
   "nbconvert_exporter": "python",
   "pygments_lexer": "ipython3",
   "version": "3.8.5"
  }
 },
 "nbformat": 4,
 "nbformat_minor": 5
}
